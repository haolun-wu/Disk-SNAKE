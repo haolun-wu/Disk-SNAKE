{
 "cells": [
  {
   "cell_type": "code",
   "execution_count": 61,
   "metadata": {},
   "outputs": [],
   "source": [
    "import os\n",
    "import sys\n",
    "# adding project directory to path, this is a bit hacky and may not work for all\n",
    "sys.path.insert(0, os.path.abspath(os.path.dirname(os.path.abspath(''))))\n",
    "from kbgen.config import rootdir, defaults_customLM as config\n",
    "from kbgen.data.datasets import GSM\n",
    "\n",
    "\n",
    "dataset = GSM.from_config(config, update=True)"
   ]
  },
  {
   "cell_type": "code",
   "execution_count": 62,
   "metadata": {},
   "outputs": [],
   "source": [
    "train_df = dataset._df.iloc[dataset.train_idx]\n",
    "test_df = dataset._df.iloc[dataset.test_idx]"
   ]
  },
  {
   "cell_type": "code",
   "execution_count": 63,
   "metadata": {},
   "outputs": [
    {
     "name": "stdout",
     "output_type": "stream",
     "text": [
      "phone.weight 901 398\n",
      "98 missing from train {522.0, 540.0, 32.5, 558.0, 52.8, nan, 63.7, 64.5, 67.4, 68.8, 69.2, 72.4, 75.8, 75.4, 77.4, 78.8, 79.4, 80.7, 80.1, 81.9, 83.4, 84.5, 78.2, 598.7, 600.0, 89.2, 93.2, 94.2, 96.8, 97.2, 101.1, 101.6, 103.7, 104.5, 102.4, 106.3, 107.6, 113.7, 115.5, 118.7, 119.4, 630.5, 121.5, 118.2, 124.4, 124.6, 124.8, 637.0, 126.8, 136.4, 136.8, 138.3, 138.2, 137.7, 138.5, 142.7, 145.2, 146.8, 149.8, 152.6, 155.6, 155.4, 156.5, 670.0, 158.4, 160.2, 161.9, 675.9, 680.4, 168.2, 180.3, 184.8, 192.8, 196.5, 709.0, 198.1, 204.4, 207.7, 225.0, 226.9, 238.0, 239.0, 256.2, 800.0, 300.5, 308.0, 309.0, 315.0, 351.0, 384.0, 395.0, 404.0, 420.8, 433.0, 472.4, 479.4, 497.0, 510.2}\n",
      "phone.height 1062 587\n",
      "57 missing from train {128.3, 262.5, 264.1, 265.0, 265.9, 274.6, 274.7, 162.8, 165.7, 39.5, 42.8, 43.6, 44.5, 45.4, 46.4, 174.1, 174.9, 178.8, 182.7, 183.5, nan, 187.7, 190.9, 193.5, 193.9, 195.4, 196.2, 70.6, 71.0, 201.5, 204.3, 205.0, 206.5, 82.6, 83.7, 213.3, 86.3, 215.5, 87.6, 90.7, 91.3, 92.8, 98.9, 108.2, 238.0, 251.0, 240.2, 241.3, 242.3, 115.4, 116.4, 110.7, 248.5, 122.3, 251.6, 124.7, 126.9}\n",
      "phone.depth 222 169\n",
      "3 missing from train {nan, 26.3, 31.0}\n",
      "phone.width 705 427\n",
      "42 missing from train {128.1, 135.4, 138.2, nan, 151.4, 156.6, 157.2, 30.6, 163.0, 164.2, 166.1, 39.5, 170.9, 171.5, 172.5, 42.8, 174.6, 43.2, 176.0, 176.5, 52.7, 183.4, 79.4, 81.4, 82.9, 84.7, 87.0, 88.7, 89.5, 90.9, 119.5, 93.0, 100.0, 101.4, 101.6, 103.9, 104.4, 107.6, 116.5, 119.2, 122.8, 126.1}\n",
      "phone.display_size 238 144\n",
      "10 missing from train {4.8768, 4.9784, 6.985, 7.0104, 9.017, 12.6746, 15.1638, 16.383, 26.924, nan}\n",
      "phone.battery 436 257\n",
      "28 missing from train {7.851749041416057, 7.483815777264256, 8.885696373339394, 10.561287945164828, nan, 11.95492329203032, 11.777666280880757, 12.32333628928017, 13.183170121042131, 11.296916206879288, 11.436190995481416, 11.401946123976536, 12.529186505250893, 13.07028868996168, 12.51939054134796, 10.378294855911893, 11.376668061857668, 11.057314877782703, 11.482303782323182, 11.765286098723683, 11.06406908038551, 12.884361339165704, 12.308054559066637, 12.910830081296574, 12.98992663055989, 12.173989374166537, 12.25591374933779, 12.0087787482805}\n",
      "phone.launch.day 32 21\n",
      "1 missing from train {nan}\n",
      "phone.launch.month 13 13\n",
      "1 missing from train {nan}\n",
      "phone.launch.year 28 27\n",
      "1 missing from train {nan}\n",
      "phone.oem 115 111\n",
      "1 missing from train {'Thuraya'}\n",
      "phone.network_edge 49 23\n",
      "2 missing from train {'Class 10 (E340E only)', 'Class 12, 296 / 177.6 kbits'}\n",
      "phone.model 7931 1801\n",
      "1801 missing from train {'DROID 3', 'A269i', 'Pixel', 'Eluga Ray 500', 'Zenfone 4 Selfie ZD553KL', 'KS360', 'MediaPad M3 8.4', 'Desire 530', 'Grand X Max+', 'L Prime', '9 Lite', 'W610', 'Twin X2', 'R380', 'Minu P123', 'PG-1900', 'T139', 'Phab2', 'Octane', 'Studio G2 HD', 'OT-720', 'EVO Design 4G', 'Z3000', 'Genius', '8890', 'Xshot', 's810', 'Studio G HD LTE', '1662', 'S45i', 'g-X5', 'Q200', 'Y6 (2019)', 'Eluga Ray 530', 'Sidekick', '855', 'X815', 'm21i', 'MOTO XT316', 'Galaxy Fresh S7390', 'NEX A', 'ES400', 'Xenium 9@9d', 'P1 AllDro', '8707v', 'Galaxy S II HD LTE', 'R821T FInd Muse', 'P6', 'R15', 'K750', 's5036 Apollo', 'Xelibri 6', 'W300', 'Play 8A', 'Xenium 9@9s', 'GSmart Akta A4', 'Galaxy S9+', 'US760 Genesis', 'Q2000', 'Smart N9', 'Redmi 5 Plus (Redmi Note 5)', 'A105 Canvas Entice', 'myTouch Q 2', 'Energy M', 'Ultimate 9150', 'G710', 'C88', 'Kindle Fire HD', 'Nitro HD', 'Galaxy Watch Active2 Aluminum', 'Galaxy Note7', 'PG-1500', 'E1190', 'Mandarina Duck Moon', 'Renue', 'Xperia Pureness', 'Dash 3.2', 'Iris 506Q', 'Transformer Pad Infinity 700 3G', 'M-6363', 'Blade II V880+', 'Life Max', 'One XC', 'Note 5 Lite', 'Moto G6', 'Redmi K20 Pro Premium', 'A12', 'iPad Air', 'P770', 'i285', 'ZV60', 'S5330 Wave533', 'Surface 2', 'beTouch E120', 'Windows Phone 8X CDMA', '533', 'P smart', 'XDA Ignito', 'Comet II', 'Tropical', '2626', 'Titan Max HD E550', 'Y5 Prime (2018)', 'iQOO Neo 855 Racing', '825SH', 'i927 Captivate Glide', 'W595', 'Live with Walkman', 'Warp Sequent', 'Moto X (2nd Gen)', 'Q 9h', 'Pop 2 (4)', 'i129', '768', 'Quickfire', 'Optimus Sol E730', 'A916', 'OT-C651', 'Galaxy Star Pro S7260', 'Zenfone 2 Laser ZE550KL', 'Moto Z2 Play', 'Excite AT200', 'ATRIX 2 MB865', 'Fonepad 8 FE380CG', 's6001 Cyprus', 'H360', 'Titanium S5 Plus', 'F520', '527', 'Opus 3', 'N76', 'E1080T', 'Iris 400s', 't650', 'Titan HD E500', 'nubia Z11 mini S', 's5012 Orbit', 'A36', 'Impera M', 'X2 Xtreme', 'Ascend G620s', 'Liquid Z6', 'Pop C5', 'Galaxy Mega 5.8 I9150', 'Galaxy J1 Ace', 'K770', 'Sol II', 'G3 S Dual', 'Xion s CT695', 'E340', '9300', 'Galaxy Note II N7100', 's5025 Helix', 'Galaxy Fame Lite S6790', 'S30', 'nuvifone G60', 'Constellation Quest', 'Galaxy Tab Pro 10.1', 'Andy 6Q', 'U900 Soul', 'J230', '8A Prime', 'iPAQ rw6818', 'LePad S2010', 'A319', 'B2070', 'P6210 Galaxy Tab 7.0 Plus', 'V220', 'Blade V7 Lite', 'C375 Cookie Tweet', 'i607 BlackJack', 'G Pad X 8.0', 'Ascend G525', 'SP65', 'Galaxy Pocket 2', 'Fizz', 'OT-308', 'Studio M HD', 'Stellar 507 (Mi-507)', 'S7 Titanium', 'A1600', 'K10 (2017)', 'Desire 601 dual sim', 'Grand X Plus Z826', 'T629', '360 H1', 'Y90', 'VK700', 'Desire VC', '540', '1', 'Era 2X', 'MediaPad X1', 'Dash Music 4.0', 'Life One X3', '630', 'Connect 4G MS840', 'OT-216', 'N85', 'Stellar 526 (Mi-526)', 'F100', 'P526', 'C44 Duos', 'S9', 'S5230 Star', 'Lumia 435 Dual SIM', 'Quattro Z', 'C4', 'Aquos B10', 'Zenfone Max ZC550KL', 'T729 Blast', 'A114R Canvas Beat', 'M350 Seek', 'X2-00', 'SGD-1020', 'G7020', 'Axon 7', 'Smart Tab III 7', 'M5s', 'MOTOACTV W450', 'KX-TU311', '7373', 'Sunny3', 'Flyer', '6280', 'Life X8', 'nova 2s', 'F110', 'Star 3 Duos S5222', 'Galaxy Note 10.1 N8000', 'S3650W Corby', 'Xperia Z5', 'X2 Soul Lite', 'ZenFone Live (L2)', 'Mi 2A', 'E2230', 'N600i', 'MX-6869', 'S7330', 'Canvas Infinity', 'Libra', 'Mi Mix 3', 'Asha 200', 'Mi 9 Pro', 'Photon 4G MB855', 'Armor X6', '1S (2020)', 'S5530', 'Galaxy Tab A 8.0 & S Pen (2019)', 'A6 Quad', 'TV 536', 'D780 flip', 'Aura', 'PEBL U3', 'Desire Q', 'Escape P870', 'MX-110', 'V3x', 'Mini jacket', 'VK3100', 'W6360', 'Blade V8 Mini', 'Desire 816G dual sim', 'Style Q', 'Galaxy Ace S5830', 'C5030', 'V55', 'Mouse', '9', 'U1000', 'T40', 'A310 Canvas Nitro', 'Aquos R2 compact', 'Zenfone Max (M1) ZB556KL', 'Y12', 'Liquid Z3', 'i500', '638CG', 'Hero 8', 'Y3 (2017)', 'XDA Atom Exec', 'MIO Explora K70', '968', 'Andy 4.7T', '6510', 'nubia Z9 Max', 'OT-292', 'MOTOKEY XT EX118', 'Ascend D quad XL', 'Y93 (Mediatek)', '55 Graphite', 'Hot 5 Lite', 'MOTO XT702', 'Noir Z4', 'Aquaris X5', 'P5 Energy', 'Galaxy Tab S2 9.7', 'KF510', 'Energy 400 LTE', 'Neo X Plus', 'Brooklyn', 'PF112 HD', 'Studio One', 'Galaxy A6s', 'Mi Note 10 Lite', 'G3 Screen', 'Grand X View 2', 'Watch Magic', 'M330', 'W3000', 'MultiPad 7.0 Prime 3G', 'Manhattan E3300', 'Blade Vec 3G', 'Smart E8', 'R730 Transfix', 'glofiish X600', 'T830', 'DROID Ultra', 'Y7 Prime (2018)', 'Optimus L7 II Dual P715', 'Q800', 'W737', 'DROID RAZR MAXX', 'Energy Diamond Mini', 'GM 810', 'M600+', 'Dash L5 LTE', 'Y70s', 'Mulan', 'OT-C555', 'KF700', 'GSmart G1315 Skate', 'Vivo 4.8 HD', 'Le Pro3 Elite', 'Mi-354 Smartflo Space', '659', 'J2', 'Studio X9 HD', 'Noir X700', 'X760', 'GX17', 'P700', 'Hydro', 'Cookie WiFi T310i', 'Dash 5.0', 'Galaxy Note10+ 5G', 'S302', 'IdeaTab S6000L', 'Mate 10', 'X2-02', 'Rock Mini', 'G6608', '760', 'Pixel XL', '7260', 'Rex 80 S5222R', 'Galaxy Pop i559', 'Galaxy M40', 'MultiPad 4 Quantum 9.7 Colombia', 'Status', 'X712', 'M1000', 'OT-S520', 'Optimus L1 II E410', 'Optimus 4G LTE P935', 'T29', 'Prime 4.0', 'E1195', 'S6s', 'I5801 Galaxy Apollo', 'G4 Stylus', 'Google Nexus S', 'Moto E', 'T909c', 'M420i/M760', 'G3 A', 'Mate 20 X', 'Multipad 4 Quantum 10.1', 'Vital N9810', 'M320+', '3v', 'D710', 'K600', 'Q600', 'GF 337', 'Pixi', 'Bharat 2 Q402', 's5525 Maverick III', 'OT-918D', 'Propel Pro', 'OT-906', 'Vdeo 3', 'OT 500', 'Kindle Fire HD (2013)', 'Optimus Vu P895', 'Galaxy Pocket plus S5301', 'Touch Book 7.0 Lite', 'A77 (Mediatek)', 'Modena', 'Liquid Z220', 'KU970 Shine', 'Y635', 'XT 730G', 'Impact b', 'A4 Duo', 'K3 Note', 'C227', 'Z1i', 'D870', 'Gratia', 'T156', 'Galaxy M31', '6250', 'Iconia Tab A510', 'DuraForce Pro', '2020i', 'TM200', 'C66', 'Minu P124', '10 Plus', 'One M8s', 'Z40', 'Ch@t 350', 'Flix', 'Zenpad C 7.0', 'X5 TD-SCDMA', 'CMD J5', 'Treo 650', 'A78', 'Smart Flo 358 (Mi-358)', 'A310', 'GD350', 'Xperia XA1', 'Might Plus II', 'Trium Cosmo', 'Galaxy Note 3 Neo Duos', 'E2 Jump', 'Axon 7 Max', 'IdeaTab S6000H', 's135', 'Viva H10 LTE', 'G6609', 'Touch Cruise', 'Ascend II', 'Aqua Craze', 'VivoTab RT TF600T', 'A660', 'Bloom2', 'Hardcase H280S', 'Moto G Turbo', 'Galaxy Core LTE G386W', 'Reno 10x zoom', '3310 (2017)', 'B7330 OmniaPRO', '6i', 'VS3', 'A119Q Signature HD', 'M-5250 Boss Item', 'Q2100', 'Galaxy S5 LTE-A G901F', 'G2 mini', 'Smart III 975', 'Porto', 'S5780 Wave 578', 'T161L', 'Xenium X530', 'Fierce 2', 'Redmi S2 (Redmi Y2)', 'X550 Qube', 'Cubo', 'S10C', 'Mash', 'nova 3i', 'Volt LTE L540', 'Liquid Gallant Duo', 'S45', 'Astro X5', 'Essence Plus', 'my750x', 'Canvas Tab P650', 'Modena 2', 'Galaxy Watch Active', 'V15 Pro', 'Galaxy Core I8260', '6730 classic', 'GF 788', 'GT405', 'Fisio 121', 'Cosmos Touch VN270', 'SL10', 'V630', 'beTouch E110', 'M2017', 'A92s', 'Xperia 10 II', 'Idol 2 Mini S', 'Venue Pro', 'J501', 'Optimus Elite LS696', 'T250', 'A850', 'Watch Sport', 'Life One', 'F11 Pro', 'S1 Pro', 'GS290 Cookie Fresh', 'X510', 'G7030', 'OT-991', 'GT505', 'P6 Lite', 'GW880', 'Incredible S', 'QT-68', 'R11', 'Mi A2 Lite (Redmi 6 Pro)', 'Mi-720', 'W510', 'Life Play X', 'C340', '2012', 'P10 Mini', 'Xperia J', 'F928', 'Signature Touch (2015)', 'Monte Carlo', 'Watch Series 3', 'Bharat Go', 'Vibe X3', 'X9s', 'Palm', 'XT810', 'Matrix', 'Memo Pad 10', 'K790', '1200', 'Touchbook M7', 'Advance 4.0 L3', 'Wildfire S', 'E156', 'Asha 300', 'Funbook 3G P600', 'E350', 'Moto G7', 'V230', 'Wave Y S5380', 'G83', 'NEO', 'Galaxy Tab A 7.0 (2016)', 'Pixi Plus', 'One XL', 'Curve 9320', 'OT-S920', 'OT 311', 'C3000', 'Galaxy On6', 'X320', 'C5010 Squash', 'P527', 'Liquid Express E320', 'Xperia M', 'E7', 'One Touch Snap LTE', 'X27 Pro', 'Vivid', 'Optimus G E975', 'nubia Z5S mini NX405H', 'v8088', 'Life Pro', 'XOOM MZ600', '8.1 (Nokia X7)', 'R815T Clover', 'P960', 'MILESTONE 3 XT860', 'Optimus Black P970', 'Blade A610', 'Energy E500S', 'Touch Book 9.7', 'C769', 'Fierce XL (Windows)', 'Concord', 'Aurora', 'X111', 'Watch Edition Series 5', 'iPhone 3GS', '1202', 'Neo X Mini', 'View2 Go', 'Xperia E4', 'Galaxy On7 Pro', 'KF240', 'Desire HD2', 'Smart V8', 'Cloud Q', 'Ascend G330D U8825D', 'D880 Duos', 'Smart V10', 'E1225 Dual Sim Shift', '107 Dual SIM', 'C333', 'Hydro Elite', '700', 'Life One M', 'Linq X100', 'P9 Energy Lite (2017)', 'Zenfone Zoom ZX551ML', 'Q900s', 'M1 Note', 'One X10', 'KS365', 'Armor 2', 'Canvas Fire 6 Q428', 'Spirit', 'Era 2', 'Z720', 'Zenfone AR ZS571KL', '2680 slide', 'Continuum I400', 'Q500', 'Iris 470', 'One SV', 'C500', 'B800', 'N97 mini', 'Y37', '6.1', 'G6310', 'Google Nexus S I9020A', 'A43', 'Vibe X3 c78', 'A94 Canvas MAd', 'W960 AMOLED 3D', 'Aquos V', 'Excite 10 AT305', 'Amigo', 'Zenfone 6 A601CG', 'Groove X501', 'C7050', 'Optimus 4X HD P880', 'Zero 4 Plus', 'C3322', 'CL71', 's6004 Cyprus Jr.', '6230i', 'Ascend Mate2 4G', 'Studio Energy 2', 'Eluga Ray X', 'Rex 70 S3802', 'MediaPad T1 10', 'Tank', 's353', 'Asha 500', 'X50 Plus', 'P4350', 'Timeport 250', 'C567', 'Canvas Amaze 4G Q491', 'Note 5 Stylus', 'Metro E2202', 'X222', 'L770', 'SmartWatch 2 SW2', 'Galaxy S II Skyrocket i727', 'Desire Eye', 'DB5000', 'Might Plus', 'Life 8', 'M07', 'U7310', 'Xperia ion LTE', 'P2 AllDro', 'GSmart MW702', 'Bolt D303', 'K7 (2017)', 'Xperia L3', \"One Touch X'Pop\", 'PG-6100', 'myTouch qwerty', 'Z558', 'OT-305', 'iPad mini 4', 'Desire 620', 'E570', '5500 Sport', 'MultiPhone 5508 Duo', 'KE800', 'Drone X', 'Mi 1S', 'e121', 'Desire L', 'S768', 'Noir i5', 'Aqua Star L', 'Spark Vdeo Q415', 'Opus HD', 'Nitro 5', 'Butterfly', '8110 4G', 'F620', 'M620', 'Canvas Infinity Life', 'Studio C', 'G Pad 7.0', 'iPhone 11 Pro Max', '6267', 'nubia Z7 mini', 'Axon 7 mini', '6230', 'Lumia 620', 'nubia N1', 'Liquid E600', 'WX160', 'Hardcase H591S', 'C51', 'Vivo X5', 'CloudMobile S500', 'Memo Pad HD7 16 GB', 'P77', 'K20 plus', 'Slate7 VoiceTab Ultra', 'Galaxy J3 (2017)', 's5017 Dorado', 'Moto G6 Plus', 'K707 Spy II', 'Orbit', 'I9003 Galaxy SL', 'Zenfone 5 ZE620KL', 'T401G', 'E300', 'Optimus Chic E720', '50 Platinum', 'Blade L5 Plus', 'Zenfone 4 Selfie Pro ZD552KL', 'Wi8G', 'GT400 Viewty Smile', 'Pixi 4 (7)', 'Andy A4M', 'G40', 'Pioneer P2S', 'Life Pure Mini', 'neoTouch P300', '903T', 'MultiPhone 4044 Duo', 'Redmi 10X Pro 5G', 'Bono 3G YZ700', 'Xperia C4', 'Galaxy S Duos 3', 'W360', '1x', 'iPAQ hw6910', 'U8800 IDEOS X5', 'Pixi First', 'GW990', 'Yoga Tab 3 Plus', 'Canvas Spark 3 Q385', '541', 'KG800', 'A797 Flight', 'E1085T', 'OT-890', 'X50 Pro', 'Galaxy A21s', 'Play 8X-1200', '5250', 'Z50', 'Redmi 7', 'Zenpad 3S 10 Z500KL', 'Zenpad 8.0 Z380M', 'KU950', 'Noir A1', 'OT-800 One Touch Tribe', '5235 Comes With Music', 'E73 Mode', 'L870', '2600', 'RIZR Z8', 'KF305', 'M-5750', 'Eluga Z1 Pro', 'R1001 Joy', 'Q10', 'Xperia Arc', 'N200', 'U880', 'T510', 'C3310', 'EF61', 'Vivo X', 'Ascend G300', 'Pro 6s', 'I6210', 'SX45', 'SGH-2400', 'Mi-355 Stellar Craze', 'MultiPhone 5451 Duo', 'X1510', 'OT-888', 'Stellar 470 (Mi-470)', '1101', 'C20', '5800 XpressMusic', 'G4c', 'Z300', 'KP105', 'Galaxy Xcover 3 G389F', 'J110', 'Dual SIM Lite', 'LIV 10', 'K8 Note', 'GD93', '6', 'M1200', 'Galaxy S 4G T959', '9600', 'MIO A502', 'S25', 'Vivo 4.3', '1T 10', 'Blade A3', 'Droid Incredible', 'Z540', 'beTouch E210', 'QT-65', 'i400', '198', 'EM35', 'Play 9A', 'M6 Lite', 'M850 Instinct HD', 'R25', 'A290 Canvas Knight Cameo', 'N-300', 'X528', 'M3310L', 'glofiish X500', 'Iconia Tab A3', 'J502', 'my901C', 'Tempo Go', '8855', 'Moto E6s (2020)', '5110', 'N150', 'XPS 10', 'A104 Canvas Fire 2', 'Galaxy Tab 3 10.1 P5200', 'Orion S450', 'Diamond Dust', 'iQOO Neo3 5G', 'Treo 750v', 'S342i', 'T208', '3L (2020)', 'Icon HD X551', 'E1232B', 'Light Tab 300', 'Note 9', 'Galaxy A20', 'S396', 'Galaxy Note T879', 'X55 Blade', 'Genie 2000', '8810', 'E133', 'U700', 'OT-808', 'J530', 'Golden Warrior S8', 'Pioneer P4', 'XDA Terra', 'Desire 820', 'Canvas Juice 3 Q392', 'Redmi 5A', 'Kin One', 'Galaxy Tab A 8 (2019)', 'Galaxy S5 Plus', 'S100', 'W180', '7 Pro', 'OT-605', 'SP4m', 'Tag 3G', 'GC333', 'N81 8GB', 'OT-E207', 'A4', 'Xperia E4g Dual', 'Noir X350', 'Desire 510', 'Flip Basic', 'KP215', 'Xenium 9@9m', 'Galaxy S6 active', 'T60', 'OT-105', 'Ascend D quad', 'Pearl 3G 9105', 'C9 Star', 'D730', 'Mi 5c', '759', 'Galaxy Xcover FieldPro', 'CHARM', 'Tek 5D', 'Xperia M2', 'P525', 'X278', 'Xperia neo L', 'Ram 3G', 'S31', 'iO', 'M530w', 'X830', 's4007 Leo IV', 'X277', 'G4', 'U9150', 'SP3', 'OT 735i', 'Liquid Z200', 'Drone Z', 'C115', 'X30', 'Galaxy A9 Pro (2016)', 'Galaxy Tab 4 10.1', 'Optimus Pad LTE', 'Iris 550Q', 'U880E', 'U450 DoubleTake', 'Tablet', '6820', 'MG160', 'GM210', 'C570', 'Galaxy J1', 'Sunny Max', 'KF390', 'X Skin', 'Pop 7', 'Grand X LTE T82', 'S367', 'S650', 'C220', 'V547', 'S5200', 'MultiPad 4 Ultra Quad 8.0 3G', 'Watch Urbane 2nd Edition LTE', 'WMA8508', 'S501i', '636', 'MX-210TV', 'T459 Gravity', 'Neo X LTE', 'Studio 6.0 HD', 'OT-C552', 'Galaxy On8', 'Zenfone 5 Lite ZC600KL', 'Canvas Xpress 2 E313', 'Focus', 'Duo', 'C2-06', 'GO 20', '250', 'Bolt Q331', 'A6010 Plus', 'Wave', 'K5 play', '6720', 'Jenny TV 2.8', 'G300', 'Moto G4 Play', 'U12+', 'iPad mini (2019)', '1600', 'U56', 'Mi 9 SE', 'Optimus Slider', 'Canvas Mega E353', 'OT-E227', 'Steel 2', 'MediaPad M3 Lite 8', 'C5130', 'G350', 'Pop 8', 'Zenfone Max Shot ZB634KL', 'E310', 'VK610', 'J6', 'Zenfone Pegasus 3', 'E900', 'Axe', 'Hardcase H242', 'V2288', 'Ram', 'Iconia Tab A3-A20', 'G Watch R W110', 'K630', 'U8180 IDEOS X1', 'MediaPad X2', 'Vibe Z K910', 'Note 8P', 'P smart Pro 2019', 'T249', 'P smart 2019', 'Studio G HD', 'RAZR D3 XT919', 'GLEAM', 'Tab3 7', 'Camon 11 Pro', 'GX34', 'Xperia L2', 'Noir Z9', 'S856', 'Xplay5 Elite', 'Galaxy J7 Prime 2', 'E1130B', 'Galaxy Tab 4 8.0 LTE', 'KP152', 'Slick', '8820', 'Zenpad 10 Z300M', '5330 XpressMusic', 'Galaxy Ace 3', 'Oxygen 63', 'D51 Discovery', 'Optimus L2 II E435', 'V9 Youth', 'OT-E801', 'Vairy Touch', 'Galaxy S20 Ultra', 'Jetstream', 'Y83 Pro', 'Iris 360 Music', 'Reno2 Z', '2690', 'Galaxy Core Plus', 'Tracer II', 'Galaxy V', 'Galaxy Young 2', 'Droid Charge I510', 'Vibe X2 Pro', 'CX65', 'Xperia acro S', 'MultiPhone 5503 Duo', '5210', 'iPad Pro 10.5 (2017)', '8800 Gold Arte', 'TV2Go Lite', 'Burst', 'L60', 'Galaxy S II T989', 'Galaxy Tab S6 5G', 'Trium Galaxy', 'GS107', 'Galaxy Nexus i515', 'Z555', 'C3300K Champ', 'X231', 'YotaPhone 2', 'Zenfone 4 Max ZC554KL', 'A667 Evergreen', 'VK800', 'GH 388', 'nubia V18', 'Ch@t 322', 'Transformer Pad Infinity 700', 'N80', 'Galaxy A3 (2017)', '1280', 'Andy 5E3', 'Optimus LTE LU6200', 'R380 Freeform III', 'XDA Trion', 'Diamond Tab', 'ATRIX TV XT682', 'View2 Pro', 'Lumia 630 Dual SIM', 'Mi-510 Stellar Prime', 'H80', 'PG-1600', 'Galaxy S7 active', 'Gol', 'P1', 'Mi-437 Stellar Nhance 2', 'Vivo IV', 'A120 Canvas 2 Colors', 'M3e', 'Galaxy J3 (2018)', '930SH', 'W880 AMOLED 12M', 'Andy A4.5', 'Twister', 'A900', 'S308', 'A65 Bolt', 'Q70', 'Mi-505 Stellar Horizon Pro', 'I997 Infuse 4G', 'V3', 'Rhyme CDMA', 'Xperia C670X', 'X power', 'Admiral XT603', 'Galaxy J5 Prime', 'M3710 Corby Beat', 'Vivo 4.65 HD', 'Galaxy A80', 'C5050', 'KG375', 'K508', 'Yutopia', 'Moto X Force', 'Grand S II S291', 'neoTouch P400', 'Ice', 'Rock', 'SRS-3300', 'Terrain', 'Noir M90', 'S5 Pro', 'Hero CDMA', 'Mi 5', 'Xperia X Ultra', 'Optimus LTE2', 'F7 Youth', 'Discover', 'Iris 450 Colour', 'D736', 'R900 Craft', '8C', 'X3-02 Touch and Type', 'T330', 'MX-3204', 'e530', 'G-Slate', 'TV 530', 'Inspire', 'Energy E500', 'R228', 'glofiish M800', 'R2001 Yoyo', 'Hero Plus B159', 'OT-997D', 'SG-2520', 'Galaxy On5 Pro', 'Iconia Tab A1-811', 'XP3.20 Quest Pro', '1110', '40 Titanium', 'B3410', 'V1', 'Desire 650', 'One M9+', 'Gator Plus II', '15', 'Viva 1003G', 'KE970 Shine', 'KP265', 'View3 Pro', 'Optimus L7 P700', 'Z320', 'C2 Power', 'Deejay II', 'W350', 'W7 Active Edition', 'MediaPad M3 Lite 10', 'my302X', 'Guru E1081T', 'I9506 Galaxy S4', 'HC 1000', 'Redmi Note 7 Pro', 'Pioneer P6', 'Excite Pure', 'RAZR i XT890', 'Shift', 'Galaxy A8s', 'Ascend Mate7 Monarch', 'Q452', 'Soul X5 Style', 'U460 Intensity II', 'GSmart Roma RX', 'MY G5', 'Iris 504q+', 'Note 8', 'MultiPhone 4055 Duo', 'G3100', 'GU230 Dimsun', 'Asha 303', 'T739 Katalyst', 'Galaxy Note10 5G', 'PG-3600V', 'Cloud Touch', 'Blade A3 (2019)', 'DEFY+', 'Ascend Mate7', 'Marathon M3', 'U8850 Vision', 'V400p', 'A5 Duo', 'Aquaris X Pro', 'M6 Plus', 'OT 153', 'Primo 3G', 'Galaxy S III I747', 'W715', 'E830', 'Galaxy J5 (2016)', 'Galaxy A5 Duos', 'Xperia Tablet Z LTE', 'Noir A950', '515', 'Le 2', 'Flyer Wi-Fi', 'U8350 Boulder', 'OT-383', 'K6 Power', 'Desire 625', 'D680', 'KF750 Secret', 'Andy 5EI3', 'E102', 'T261L', 'Studio G', 'T909', 'Ascend Y100', 'X66', 'Butterfly 2', 'Dart T499', 'C303', 'Iris 402e', 'Moto Z Play', 'MX-6805', 'Classic C23A', 'Zero 5', 'X900', 'P6 Energy Lite', 'Galaxy A30s', 'A102', '10 Pro', 'Bold 9790', 'QT-56', 'ROKR ZN50', '220', 'Zenpad 8.0 Z380KL', 'B3410W Ch@t', 'Y83', 'U705T Ulike 2', 'Grand M', 'Z630', 'Xperia XZ2 Compact', 'nubia Z5', 'Streak 7 Wi-Fi', 'P20', 'G8s ThinQ', 'T310', 'GO 50', 'i858', 'A887 Solstice', 'Memo Pad ME172V', 'Mi Pad 7.9', 'K451+ Sound Wave', 'Max 1 Plus', '940SH', 'S401i', 'U3300', 'S3030 Tobi', 'GD310', 'L5100', 'Pioneer P1', 'X680', 'Canvas Tab P690', 'Galaxy A9 (2016)', 'Viper L', 'Desire 728 dual sim', 'N109', 'OT 531', 'T5100', 'One M9', '3108', 'S337', 'P7500 Galaxy Tab 10.1 3G', 'S5 Pro (16+32)', 'P8lite', 'V40 ThinQ', 'Armor X7 Pro', 'K550im', 'Studio Touch', 'MC 950', 's700', 'Iris 356', 'Win HD', 'Zenfone 6 ZS630KL', 'Z80', 'Porto S', 'N97', '2.1', 'iPhone 5c', 'G7002', 'W8555', 'W388', 'P300B', 'nubia Z17 lite', 'Xperia X Compact', 'M-4580n', 'ST60', 'Life View Tab', 'KS20', 'PG-3600', 'Z61', 'Note 4 Pro', 'K220', 'Neo 3.5', 'Classic C60', 'Y7 Pro (2019)', 'T180', 'Aquaris X2 Pro', 'Thrive 7', 'ROKR W5', 'P31', 'A105', 'JAM Black', 'Idol Mini', 'INNO 80', 'Spark Power 2', 'GSmart Mika M3', 'T219', 'OT-S210', 'Galaxy J4 Core', 'Galaxy Tab 2 7.0 P3100', 'One V', 'Power Max P490', 'Galaxy A20s', 'E1360', 'Excite Pro', 'A727', 'Memo Pad Smart 10', 'Mi-492 Stellar Virtuoso Pro+', 'Pixi 3 (4.5)', 'AX4 Nano', 'Iris Pro 30', 'GT540 Optimus', 'Redmi Note 4X', 'Galaxy J7', 'Galaxy Tab E 8.0', 'CF75', 'K65 Buzz', 'K610', 'OT-282', 'MX-6877', 'One A9s', 'Keyone', 'CT 2', 'MY X1-2', 'Galaxy Tab 3 10.1 P5210', 'Galaxy Folder', 'Iris 465', 'GD90', 'C7 Astound', 'PG-1400', 'Redmi Note Prime', 'C168', 'OT-916', 'Andy C5E LTE', 'Y71i', 'N290', 'E1410', '735', 'B7620 Giorgio Armani', 'MAX 4G', 'i607', 'Xperia P', 'Pixel V1', 'VK520', 'M-5200 Boss Don', '350', 'Moto E Dual SIM (2nd gen)', 'Desire 628', 'Titan Max HD E600', 'T11', 'B100TV', 'One Touch Tab 8 HD', 'iPhone XS', 'Fire C 2G', 'Aquos Zero 2', 'N86 8MP', 'Eluga Z', 'Keroro', 'P8max', 'myTouch 4G', 'Classic', 'Galaxy Note 3 Neo', 's635', 'Lindy', '7390', 'Aqua Ace', 'Eluga U', 'FX', 'Moto G5S Plus', 'my429x', 'T230', 'Pixi 4 (5)', 'G1', 'Summit', 'Zenfone Go ZB690KG', 'Geo', 'E690', 'R2 LTE', 'M-5390 Boss Double XL', 'Iconia Tab 8 A1-840FHD', 'S3X', 'Galaxy Note LTE 10.1 N8020', 'Life 8 XL', 'Photon Q 4G LTE XT897', 'Ritmo YZ400', 'Orbit Z50', '7600', 'Grand S Pro', 'Focus S I937', 'Talk Comfort', 'OT 331', 'Canvas Unite 4', 'Zenpad Z10 ZT500KL', 'A80', 'Blade A2', 'myTouch', 'Equal Pro LTE L700', 'Soul X5 Mini', 'OT 355', 'Elite 3.8', 'Arrive', 'Galaxy Grand Prime Duos TV', 'PEBL VU20', '3.1', 'C3200', 'Andy C5VP', 'OT-300', 'M130', 'Mi-502 Smartflo Pace2', 'Galaxy Watch', 'Iconia Tab 10 A3-A40', 'Lumia 710 T-Mobile', 'P41', 'Pixi 3 (8) 3G', 'GSmart Classic', 'Rock 2.4', 'Jalou', 'G3000', '804N', 'Sport 4.5', '6216 classic', 'Xenium X300', 'Galaxy J5 (2017)', 'Dash Music JR', 'Galaxy A8 (2018)', 'Lucid2 VS870', 'Energy E241s', 'Optimus Chat C550', 'Xperia X Performance', 'Pebble', 'Soul X5 Pro', 'E3500', 'PRO 5 mini', 'Tattoo TV', '55b Cobalt', 'S7550 Blue Earth', 'C206', 'PadFone 2', 'Rise C5155', 'I9105 Galaxy S II Plus', 'Funbook Talk P362', 'F500', 'MT710 ZHILING', 'View 1', 'X21 UD', 'V75', 'Prime 3.5', 'VK2010', 'Signal', 'Xperia XZ1 Compact', 'C367', 'Zenfone Go T500', 'Canvas Fire 5 Q386', 'A706', 'A3900', 'Armor 7E', 'GC275', 'X335C', 'R16', 'DB6000', 'OT-380', 'W160', 'Aquaris V', 'Gear S2 classic', 'iPad Wi-Fi', '130 (2017)', 'T98', 'S939', 'Skate', 'Ascent Ti Damascus Steel', 'Zenpad 10 Z300C', 'Ascend G535', 'Y3II', 'Sidekick LX', 'RS90', 'M2710 Beat Twist', 'iPAQ rw6815', 'Minu', 'N810', 'Play Tab 7.0', 'MultiPhone 5000 Duo', 'A140', 'G3621L', 'Glory Q5', 'A160', 'QUENCH', 'N2', 'W259 Duos', 'Ascend Y201 Pro', 'iPad mini Wi-Fi', 'UBiQUiO 501', 'Xperia neo V', 'T400', 'L4 Class', 'Racer II', 'Desire 612', 'e313', 'Galaxy S5 LTE-A G906S', 'Asha 310', 'Xperia X1', 'ZC20', 'Sl5200 Eclipse', '3T 10', 'WMA8701A', 'N22i', 'SH 888', 'Life One X', 'A8i', 'OT-S850', 'Lumia 530', 'Xperia ZL', 'Aquaris E5s', 'CU515', 'Streak', 'V09', 'Impulse 4G', 'Anthem 4G', 'Redmi Note 3', 'Y625', 'Windows Phone 7', 'X20 Plus', '6303 classic', 'DV50', 'Chico 2 YZ201', 'San Diego', 'L Bello', 'Zenfone 3s Max ZC521TL', 'Mi 8 Explorer', 'Studio G Mini', 'W181', 'KEY2 LE', 'Q8 (2017)', 'JAMA', 'Camon X Pro', 'Charm', 'Zenfone Max (M2) ZB633KL', 'Desire 830', 'C22', 'KF757 Secret', 'S7230E Wave 723', 'Xperia X2', 'Life One X (2016)', '301', 'S600', 'Mi Note 3', 'Galaxy Note FE', 'One (M8) CDMA', '2 Speed Quad', 'GB106', 'One (E8)', 'Brio', 'Galaxy Star 2', 'Fever SE', 'Pulp Fab', 'N1 mini', 'Desire XC', 'E365', '703', 'nova 4e', 'G9 Pro', 'Xperia XZ', 'C1-01', 'Maven', 'S35i', 'Galaxy S5 Sport', 'E200 ECO', 'G7120', 'Ozone', 'A777', 'GSmart Mika MX', 'X17', 'C909', 'M520', 'Desire 501 dual sim', '6210 Navigator', 'Max', '3510i', 'Studio XL2', 'Galaxy Pop SHV-E220', 'Tiara', 'Quattro 5.7 HD', 'Com 207', 'A65', 'I8700 Omnia 7', '6111', 'Iris 410', '1 Plus', 'OT Pro', 'Iconia B1-720', 'A711', 'R9 Plus', 'Soul X7 Pro', 'nubia M2', 'Armor X2', 'F480i', 'Ultra Max LTE L550', 'Touch 3G', 'Q510s', 'L40 Dual D170', 'C409', 'Redmi Pro', 'Redmi Note 7S', 'Check LTE', 'Y11 (2019)', 'PG-3200', 'Lumia 1520', '3 (2019)', 'J150', 'Vega', 'Xperia pro', 'Liquid Z630', 'X223', 'Galaxy Tab A 8.0 & S Pen (2015)', 'Galaxy S9 Active', 'MultiPhone 7600 Duo', 'Wicked', 'Evo 4G', 'C349i', '6260 slide', 'Ascend Y600', 'GT500 Puccini', 'C700', 'X516', 'Ch@t 222', '4.2', 'Andy A4', 'Noir Z9 Plus', 'OT-909 One Touch MAX', 'P9 Energy mini', 'Xperia GX SO-04D', 'L80', 'Liquid Z330', 'ME75', 'EM25', 'Galaxy Grand Prime', 'Xperia Neo', 'Dash L4', 'Neo 4.5', 'Impera i', 's5205 Orion Pro', 'X3 Soul mini', 'iQOO Neo 855', 'CX75', 'Diva', 'A10-70 A7600', 'Pop 8S', 'Q 11', 'A867 Eternity', 'Motosmart Flip XT611', 'Surface', 'Lumia 930', 'PDA2k', 'A110', 'Xperia mini pro', 'Studio C HD', 'VE538', '320', 'i410', 'Breeze III', 'Optimax 10', 'X20 Plus UD', 'i674', 'A630', 'Bharat 5 Infinity', 'Allwatch Hybrid S', 'Zenfone Pegasus 3s', 'S5560 Marvel', 'Moto G4', 'P95', 's352', 'I9305 Galaxy S III', 'Bharat 5 Pro', 'P4000', 'Cool S1', 'P30 Pro', 'VK7000', 'OT-870', 'L8', 'J', 'Savvy Vogue', 'Sport jacket', 'E1107 Crest Solar', 'Iconia Tab 10 A3-A30', 'SRD-200', 'Vivo XL4', 'Galaxy J1 (2016)', 'Shell', 'Equal S700', 'C76', 'MDA Basic', 'E780', 'Pixi 3 (5.5) LTE', 'Blade 10 Prime', 's5015 Spark II', 'Coach Pro', 'X4 Xtreme', '6136', 'Lumia 530 Dual SIM', 'S6 5G', 'P500', 'S312', 'Aquos R2', '770SH', 'Pop 2 F', 'XCD35', '2652', 'Prada 3.0', 'V377', 'X130', 'Camon 12 Air', 'X960', 'iPad mini 4 (2015)', 'MS1', 'Touch Pro2', 'H802', 'Studio 6.0 LTE', 'MultiPad 7.0 Ultra + New', 'Mi Max 2', '7S', '105', 'W580', 'KT21 Express', 'Hammer', 'Xperia 10', 'Zenfone 3 Max ZC520TL', 'KG810', '105 (2015)', 'KC910 Renoir', 'Lenny', 'X3 Soul Lite', 'Tank Xtreme 4.0', 't210', 'MediaPad T2 7.0 Pro', 'E3 Sign', 'Galaxy C7 Pro', 'C619', 'U53', 'Stellar 361 (Mi-361)', 'Motokey Social', 'Canvas Spark Q380', 'X118', 'Glam', 'KB770', '550SH', 'KG245', 'Astro 3.5', 'Galaxy Grand 2', 'MX 4-core', 'Treo 180', 'Ritmo 2 YZ420', 'Optimus F5', 'Asha 230', 'X225', 'Noir S2', '600', 'S5600v Blade', '2610', 'KM330', 'Storm3', 'Q66', 'X350', 'Xperia X', 'X098', 'W909', 'Galaxy J7 (2018)', '7 Surround', 'MX-6899', 'Blaze', 'C349+', 'T109', '3.2', 'Zenfone 2 Laser ZE551KL'}\n"
     ]
    }
   ],
   "source": [
    "uniques = {}\n",
    "for col in dataset.df.columns:\n",
    "    uniques[col] = (set(train_df[col].unique()), set(test_df[col].unique()))\n",
    "    print(col, len(uniques[col][0]), len(uniques[col][1]))\n",
    "    missing = uniques[col][1] - uniques[col][0]\n",
    "    print(f\"{len(missing)} missing from train\", missing)\n"
   ]
  },
  {
   "cell_type": "code",
   "execution_count": 64,
   "metadata": {},
   "outputs": [],
   "source": [
    "import pandas as pd\n",
    "merged = pd.merge(train_df, test_df, on=['phone.model', \"phone.oem\"], how='inner')"
   ]
  },
  {
   "cell_type": "code",
   "execution_count": 65,
   "metadata": {},
   "outputs": [
    {
     "name": "stdout",
     "output_type": "stream",
     "text": [
      "\n"
     ]
    }
   ],
   "source": [
    "print(*merged[\"phone.model\"].to_list(), sep=\"\\n\")"
   ]
  },
  {
   "cell_type": "code",
   "execution_count": 66,
   "metadata": {},
   "outputs": [
    {
     "data": {
      "text/plain": [
       "0"
      ]
     },
     "execution_count": 66,
     "metadata": {},
     "output_type": "execute_result"
    }
   ],
   "source": [
    "len(uniques[\"phone.model\"][0] & uniques[\"phone.model\"][1])"
   ]
  },
  {
   "cell_type": "code",
   "execution_count": null,
   "metadata": {},
   "outputs": [],
   "source": []
  }
 ],
 "metadata": {
  "kernelspec": {
   "display_name": "Python 3",
   "language": "python",
   "name": "python3"
  },
  "language_info": {
   "codemirror_mode": {
    "name": "ipython",
    "version": 3
   },
   "file_extension": ".py",
   "mimetype": "text/x-python",
   "name": "python",
   "nbconvert_exporter": "python",
   "pygments_lexer": "ipython3",
   "version": "3.10.6"
  },
  "orig_nbformat": 4
 },
 "nbformat": 4,
 "nbformat_minor": 2
}
