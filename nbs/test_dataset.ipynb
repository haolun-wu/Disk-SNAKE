{
 "cells": [
  {
   "cell_type": "code",
   "execution_count": 1,
   "metadata": {
    "ExecuteTime": {
     "end_time": "2024-03-18T18:49:54.398659Z",
     "start_time": "2024-03-18T18:49:51.102699Z"
    }
   },
   "outputs": [
    {
     "name": "stderr",
     "output_type": "stream",
     "text": [
      "/Users/haolunwu/Documents/GitHub/Disk-SNAKE/kbgen/data/datasets.py:48: FutureWarning: Setting an item of incompatible dtype is deprecated and will raise an error in a future version of pandas. Value '' has dtype incompatible with float64, please explicitly cast to a compatible dtype first.\n",
      "  self.df.fillna(\"\", inplace=True)  # previously was \"<pad>\" TODO\n"
     ]
    }
   ],
   "source": [
    "import os\n",
    "import sys\n",
    "# adding project directory to path, this is a bit hacky and may not work for all\n",
    "sys.path.insert(0, os.path.abspath(os.path.dirname(os.path.abspath(''))))\n",
    "from kbgen.config import rootdir, defaults_customLM as config\n",
    "from kbgen.data.datasets import GSM\n",
    "\n",
    "\n",
    "dataset = GSM.from_config(config, update=True)"
   ]
  },
  {
   "cell_type": "code",
   "execution_count": 2,
   "metadata": {
    "ExecuteTime": {
     "end_time": "2024-03-18T18:49:58.217144Z",
     "start_time": "2024-03-18T18:49:58.211415Z"
    }
   },
   "outputs": [],
   "source": [
    "train_df = dataset._df.iloc[dataset.train_idx]\n",
    "test_df = dataset._df.iloc[dataset.test_idx]"
   ]
  },
  {
   "cell_type": "code",
   "outputs": [
    {
     "data": {
      "text/plain": "            phone.model    phone.oem phone.network_edge  phone.weight  \\\n12                 V100        Haier                 No          90.0   \n4            Pixel 4 XL       Google                NaN         193.0   \n37         MagicWatch 2        Honor                 No          41.0   \n8                   N60        Haier                 No         131.0   \n3                GSmart     Gigabyte                NaN           NaN   \n6           Pixel 3a XL       Google                NaN         167.0   \n41               Play 3        Honor                NaN         176.0   \n46           Pad 5 10.1        Honor                NaN           NaN   \n47              Pad 5 8        Honor                NaN           NaN   \n15              8S 2020        Honor                NaN         146.0   \n9                 T3000        Haier                 No          85.0   \n16                Play4        Honor                NaN         213.0   \n24              30 Pro+        Honor                NaN         190.0   \n34           View30 Pro        Honor                NaN         206.0   \n31             8A Prime        Honor                NaN         150.0   \n0                  Vega      Benefon                 No         190.0   \n44           9X (China)        Honor                NaN         206.0   \n27                  20e        Honor                NaN         164.0   \n33              Play 9A        Honor                NaN         185.0   \n5               Pixel 4       Google                NaN         162.0   \n29              Play 4T        Honor                NaN         176.0   \n11                 V190        Haier                 No          90.0   \n36              V30 Pro        Honor                NaN         206.0   \n1          nuvifone M10  Garmin-Asus                NaN           NaN   \n21                   9C        Honor                NaN         176.0   \n2   GSmart G1305 Boston     Gigabyte                NaN         118.0   \n43               9X Pro        Honor                NaN         202.0   \n35               View30        Honor                NaN         213.0   \n23              9X Lite        Honor                NaN         188.0   \n40              Play 3e        Honor                NaN         146.0   \n10                 V280        Haier                 No          80.0   \n22                   9S        Honor                NaN         144.0   \n18               X10 5G        Honor                NaN         203.0   \n49                   20        Honor                NaN         174.0   \n20                   9A        Honor                NaN         185.0   \n7              Pixel 3a       Google                NaN         147.0   \n42                  20S        Honor                NaN         172.0   \n14                Z8000        Haier                 No          90.0   \n28          Play 4T Pro        Honor                NaN         165.0   \n38                   9X        Honor                NaN         196.8   \n\n    phone.display_size  phone.height  phone.width  phone.depth  phone.battery  \\\n12                 NaN         106.0         46.0         18.8       9.231221   \n4              16.0020         160.4         75.1          8.2      11.853699   \n37              3.5306          45.9         45.9         10.7       8.832890   \n8                  NaN          94.0         48.0         25.0       9.815383   \n3               7.1120         103.0         54.0         13.4      10.551708   \n6              15.2400         160.1         76.1          8.2      11.853699   \n41             16.2306         159.8         76.1          8.1      11.966145   \n46             25.6540         243.0        164.0          7.8      12.316564   \n47             20.3200         204.2        122.2          8.2      12.316564   \n15             14.5034         147.1         70.8          8.5      11.560810   \n9                  NaN          85.0         45.0         23.5       9.231221   \n16             17.2974         170.0         78.5          8.9      12.070456   \n24             16.6878         160.3         73.6          8.4      11.966145   \n34             16.6878         162.7         75.8          8.8      12.001760   \n31             15.4686         156.3         73.5          8.2      11.560810   \n0                  NaN         145.0         56.0         23.0            NaN   \n44             16.7386         163.1         77.2          8.8      11.966145   \n27             15.7734         154.8         73.6          8.0      11.731743   \n33             16.0020         159.1         74.1          9.0      12.288001   \n5              14.4780         147.1         68.8          8.2      11.451726   \n29             16.2306         159.8         76.1          8.1      11.966145   \n11                 NaN         106.0         46.0         18.8       9.493855   \n36             16.6878         162.7         75.8          8.8      12.001760   \n1               8.8900           NaN          NaN          NaN      10.551708   \n21             16.2306         159.8         76.1          8.1      11.966145   \n2               8.1280         116.0         56.8         12.4      10.265615   \n43             16.7386         163.5         77.3          8.8      11.966145   \n35             16.6878         162.7         75.8          8.9      12.036517   \n23             16.5100         160.4         76.6          7.8      11.873060   \n40             14.5034         147.1         70.8          8.5      11.560810   \n10                 NaN         109.0         44.0         14.5       9.105909   \n22             13.8430         146.5         70.9          8.4      11.560810   \n18             16.8402         163.7         76.5          8.8      12.070456   \n49             15.9004         154.3         74.0          7.9      11.873060   \n20             16.0020         159.1         74.1          9.0      12.288001   \n7              14.2240         151.3         70.1          8.2      11.551228   \n42             15.9004         154.3         74.0          7.9      11.873060   \n14                 NaN          83.0         44.0         23.8       9.231221   \n28             16.0020         157.4         73.2          7.8      11.966145   \n38             16.7386         163.5         77.3          8.8      11.966145   \n\n    phone.launch.year  phone.launch.day  phone.launch.month  \n12             2004.0               NaN                 NaN  \n4              2019.0              15.0                10.0  \n37             2019.0               NaN                11.0  \n8              2005.0               NaN                 2.0  \n3                 NaN               NaN                 NaN  \n6              2019.0               7.0                 5.0  \n41             2019.0               NaN                 9.0  \n46             2019.0               NaN                 6.0  \n47             2019.0               NaN                 6.0  \n15             2020.0              27.0                 5.0  \n9              2005.0               NaN                 2.0  \n16             2020.0               3.0                 6.0  \n24             2020.0              15.0                 4.0  \n34             2020.0              24.0                 2.0  \n31             2020.0              30.0                 3.0  \n0              1999.0               NaN                 NaN  \n44             2019.0               NaN                 7.0  \n27             2020.0              16.0                 4.0  \n33             2020.0              30.0                 3.0  \n5              2019.0              15.0                10.0  \n29             2020.0               9.0                 4.0  \n11             2004.0               NaN                 NaN  \n36             2019.0               NaN                11.0  \n1              2010.0               NaN                 1.0  \n21             2020.0              29.0                 4.0  \n2              2010.0               NaN                 4.0  \n43             2019.0              23.0                 7.0  \n35             2020.0              24.0                 2.0  \n23             2020.0              17.0                 4.0  \n40             2019.0               NaN                 9.0  \n10             2005.0               NaN                 NaN  \n22             2020.0              29.0                 4.0  \n18             2020.0              20.0                 5.0  \n49             2019.0               NaN                 5.0  \n20             2020.0              29.0                 4.0  \n7              2019.0               7.0                 5.0  \n42             2019.0               NaN                 9.0  \n14             2004.0               NaN                 NaN  \n28             2020.0               9.0                 4.0  \n38             2019.0              28.0                10.0  ",
      "text/html": "<div>\n<style scoped>\n    .dataframe tbody tr th:only-of-type {\n        vertical-align: middle;\n    }\n\n    .dataframe tbody tr th {\n        vertical-align: top;\n    }\n\n    .dataframe thead th {\n        text-align: right;\n    }\n</style>\n<table border=\"1\" class=\"dataframe\">\n  <thead>\n    <tr style=\"text-align: right;\">\n      <th></th>\n      <th>phone.model</th>\n      <th>phone.oem</th>\n      <th>phone.network_edge</th>\n      <th>phone.weight</th>\n      <th>phone.display_size</th>\n      <th>phone.height</th>\n      <th>phone.width</th>\n      <th>phone.depth</th>\n      <th>phone.battery</th>\n      <th>phone.launch.year</th>\n      <th>phone.launch.day</th>\n      <th>phone.launch.month</th>\n    </tr>\n  </thead>\n  <tbody>\n    <tr>\n      <th>12</th>\n      <td>V100</td>\n      <td>Haier</td>\n      <td>No</td>\n      <td>90.0</td>\n      <td>NaN</td>\n      <td>106.0</td>\n      <td>46.0</td>\n      <td>18.8</td>\n      <td>9.231221</td>\n      <td>2004.0</td>\n      <td>NaN</td>\n      <td>NaN</td>\n    </tr>\n    <tr>\n      <th>4</th>\n      <td>Pixel 4 XL</td>\n      <td>Google</td>\n      <td>NaN</td>\n      <td>193.0</td>\n      <td>16.0020</td>\n      <td>160.4</td>\n      <td>75.1</td>\n      <td>8.2</td>\n      <td>11.853699</td>\n      <td>2019.0</td>\n      <td>15.0</td>\n      <td>10.0</td>\n    </tr>\n    <tr>\n      <th>37</th>\n      <td>MagicWatch 2</td>\n      <td>Honor</td>\n      <td>No</td>\n      <td>41.0</td>\n      <td>3.5306</td>\n      <td>45.9</td>\n      <td>45.9</td>\n      <td>10.7</td>\n      <td>8.832890</td>\n      <td>2019.0</td>\n      <td>NaN</td>\n      <td>11.0</td>\n    </tr>\n    <tr>\n      <th>8</th>\n      <td>N60</td>\n      <td>Haier</td>\n      <td>No</td>\n      <td>131.0</td>\n      <td>NaN</td>\n      <td>94.0</td>\n      <td>48.0</td>\n      <td>25.0</td>\n      <td>9.815383</td>\n      <td>2005.0</td>\n      <td>NaN</td>\n      <td>2.0</td>\n    </tr>\n    <tr>\n      <th>3</th>\n      <td>GSmart</td>\n      <td>Gigabyte</td>\n      <td>NaN</td>\n      <td>NaN</td>\n      <td>7.1120</td>\n      <td>103.0</td>\n      <td>54.0</td>\n      <td>13.4</td>\n      <td>10.551708</td>\n      <td>NaN</td>\n      <td>NaN</td>\n      <td>NaN</td>\n    </tr>\n    <tr>\n      <th>6</th>\n      <td>Pixel 3a XL</td>\n      <td>Google</td>\n      <td>NaN</td>\n      <td>167.0</td>\n      <td>15.2400</td>\n      <td>160.1</td>\n      <td>76.1</td>\n      <td>8.2</td>\n      <td>11.853699</td>\n      <td>2019.0</td>\n      <td>7.0</td>\n      <td>5.0</td>\n    </tr>\n    <tr>\n      <th>41</th>\n      <td>Play 3</td>\n      <td>Honor</td>\n      <td>NaN</td>\n      <td>176.0</td>\n      <td>16.2306</td>\n      <td>159.8</td>\n      <td>76.1</td>\n      <td>8.1</td>\n      <td>11.966145</td>\n      <td>2019.0</td>\n      <td>NaN</td>\n      <td>9.0</td>\n    </tr>\n    <tr>\n      <th>46</th>\n      <td>Pad 5 10.1</td>\n      <td>Honor</td>\n      <td>NaN</td>\n      <td>NaN</td>\n      <td>25.6540</td>\n      <td>243.0</td>\n      <td>164.0</td>\n      <td>7.8</td>\n      <td>12.316564</td>\n      <td>2019.0</td>\n      <td>NaN</td>\n      <td>6.0</td>\n    </tr>\n    <tr>\n      <th>47</th>\n      <td>Pad 5 8</td>\n      <td>Honor</td>\n      <td>NaN</td>\n      <td>NaN</td>\n      <td>20.3200</td>\n      <td>204.2</td>\n      <td>122.2</td>\n      <td>8.2</td>\n      <td>12.316564</td>\n      <td>2019.0</td>\n      <td>NaN</td>\n      <td>6.0</td>\n    </tr>\n    <tr>\n      <th>15</th>\n      <td>8S 2020</td>\n      <td>Honor</td>\n      <td>NaN</td>\n      <td>146.0</td>\n      <td>14.5034</td>\n      <td>147.1</td>\n      <td>70.8</td>\n      <td>8.5</td>\n      <td>11.560810</td>\n      <td>2020.0</td>\n      <td>27.0</td>\n      <td>5.0</td>\n    </tr>\n    <tr>\n      <th>9</th>\n      <td>T3000</td>\n      <td>Haier</td>\n      <td>No</td>\n      <td>85.0</td>\n      <td>NaN</td>\n      <td>85.0</td>\n      <td>45.0</td>\n      <td>23.5</td>\n      <td>9.231221</td>\n      <td>2005.0</td>\n      <td>NaN</td>\n      <td>2.0</td>\n    </tr>\n    <tr>\n      <th>16</th>\n      <td>Play4</td>\n      <td>Honor</td>\n      <td>NaN</td>\n      <td>213.0</td>\n      <td>17.2974</td>\n      <td>170.0</td>\n      <td>78.5</td>\n      <td>8.9</td>\n      <td>12.070456</td>\n      <td>2020.0</td>\n      <td>3.0</td>\n      <td>6.0</td>\n    </tr>\n    <tr>\n      <th>24</th>\n      <td>30 Pro+</td>\n      <td>Honor</td>\n      <td>NaN</td>\n      <td>190.0</td>\n      <td>16.6878</td>\n      <td>160.3</td>\n      <td>73.6</td>\n      <td>8.4</td>\n      <td>11.966145</td>\n      <td>2020.0</td>\n      <td>15.0</td>\n      <td>4.0</td>\n    </tr>\n    <tr>\n      <th>34</th>\n      <td>View30 Pro</td>\n      <td>Honor</td>\n      <td>NaN</td>\n      <td>206.0</td>\n      <td>16.6878</td>\n      <td>162.7</td>\n      <td>75.8</td>\n      <td>8.8</td>\n      <td>12.001760</td>\n      <td>2020.0</td>\n      <td>24.0</td>\n      <td>2.0</td>\n    </tr>\n    <tr>\n      <th>31</th>\n      <td>8A Prime</td>\n      <td>Honor</td>\n      <td>NaN</td>\n      <td>150.0</td>\n      <td>15.4686</td>\n      <td>156.3</td>\n      <td>73.5</td>\n      <td>8.2</td>\n      <td>11.560810</td>\n      <td>2020.0</td>\n      <td>30.0</td>\n      <td>3.0</td>\n    </tr>\n    <tr>\n      <th>0</th>\n      <td>Vega</td>\n      <td>Benefon</td>\n      <td>No</td>\n      <td>190.0</td>\n      <td>NaN</td>\n      <td>145.0</td>\n      <td>56.0</td>\n      <td>23.0</td>\n      <td>NaN</td>\n      <td>1999.0</td>\n      <td>NaN</td>\n      <td>NaN</td>\n    </tr>\n    <tr>\n      <th>44</th>\n      <td>9X (China)</td>\n      <td>Honor</td>\n      <td>NaN</td>\n      <td>206.0</td>\n      <td>16.7386</td>\n      <td>163.1</td>\n      <td>77.2</td>\n      <td>8.8</td>\n      <td>11.966145</td>\n      <td>2019.0</td>\n      <td>NaN</td>\n      <td>7.0</td>\n    </tr>\n    <tr>\n      <th>27</th>\n      <td>20e</td>\n      <td>Honor</td>\n      <td>NaN</td>\n      <td>164.0</td>\n      <td>15.7734</td>\n      <td>154.8</td>\n      <td>73.6</td>\n      <td>8.0</td>\n      <td>11.731743</td>\n      <td>2020.0</td>\n      <td>16.0</td>\n      <td>4.0</td>\n    </tr>\n    <tr>\n      <th>33</th>\n      <td>Play 9A</td>\n      <td>Honor</td>\n      <td>NaN</td>\n      <td>185.0</td>\n      <td>16.0020</td>\n      <td>159.1</td>\n      <td>74.1</td>\n      <td>9.0</td>\n      <td>12.288001</td>\n      <td>2020.0</td>\n      <td>30.0</td>\n      <td>3.0</td>\n    </tr>\n    <tr>\n      <th>5</th>\n      <td>Pixel 4</td>\n      <td>Google</td>\n      <td>NaN</td>\n      <td>162.0</td>\n      <td>14.4780</td>\n      <td>147.1</td>\n      <td>68.8</td>\n      <td>8.2</td>\n      <td>11.451726</td>\n      <td>2019.0</td>\n      <td>15.0</td>\n      <td>10.0</td>\n    </tr>\n    <tr>\n      <th>29</th>\n      <td>Play 4T</td>\n      <td>Honor</td>\n      <td>NaN</td>\n      <td>176.0</td>\n      <td>16.2306</td>\n      <td>159.8</td>\n      <td>76.1</td>\n      <td>8.1</td>\n      <td>11.966145</td>\n      <td>2020.0</td>\n      <td>9.0</td>\n      <td>4.0</td>\n    </tr>\n    <tr>\n      <th>11</th>\n      <td>V190</td>\n      <td>Haier</td>\n      <td>No</td>\n      <td>90.0</td>\n      <td>NaN</td>\n      <td>106.0</td>\n      <td>46.0</td>\n      <td>18.8</td>\n      <td>9.493855</td>\n      <td>2004.0</td>\n      <td>NaN</td>\n      <td>NaN</td>\n    </tr>\n    <tr>\n      <th>36</th>\n      <td>V30 Pro</td>\n      <td>Honor</td>\n      <td>NaN</td>\n      <td>206.0</td>\n      <td>16.6878</td>\n      <td>162.7</td>\n      <td>75.8</td>\n      <td>8.8</td>\n      <td>12.001760</td>\n      <td>2019.0</td>\n      <td>NaN</td>\n      <td>11.0</td>\n    </tr>\n    <tr>\n      <th>1</th>\n      <td>nuvifone M10</td>\n      <td>Garmin-Asus</td>\n      <td>NaN</td>\n      <td>NaN</td>\n      <td>8.8900</td>\n      <td>NaN</td>\n      <td>NaN</td>\n      <td>NaN</td>\n      <td>10.551708</td>\n      <td>2010.0</td>\n      <td>NaN</td>\n      <td>1.0</td>\n    </tr>\n    <tr>\n      <th>21</th>\n      <td>9C</td>\n      <td>Honor</td>\n      <td>NaN</td>\n      <td>176.0</td>\n      <td>16.2306</td>\n      <td>159.8</td>\n      <td>76.1</td>\n      <td>8.1</td>\n      <td>11.966145</td>\n      <td>2020.0</td>\n      <td>29.0</td>\n      <td>4.0</td>\n    </tr>\n    <tr>\n      <th>2</th>\n      <td>GSmart G1305 Boston</td>\n      <td>Gigabyte</td>\n      <td>NaN</td>\n      <td>118.0</td>\n      <td>8.1280</td>\n      <td>116.0</td>\n      <td>56.8</td>\n      <td>12.4</td>\n      <td>10.265615</td>\n      <td>2010.0</td>\n      <td>NaN</td>\n      <td>4.0</td>\n    </tr>\n    <tr>\n      <th>43</th>\n      <td>9X Pro</td>\n      <td>Honor</td>\n      <td>NaN</td>\n      <td>202.0</td>\n      <td>16.7386</td>\n      <td>163.5</td>\n      <td>77.3</td>\n      <td>8.8</td>\n      <td>11.966145</td>\n      <td>2019.0</td>\n      <td>23.0</td>\n      <td>7.0</td>\n    </tr>\n    <tr>\n      <th>35</th>\n      <td>View30</td>\n      <td>Honor</td>\n      <td>NaN</td>\n      <td>213.0</td>\n      <td>16.6878</td>\n      <td>162.7</td>\n      <td>75.8</td>\n      <td>8.9</td>\n      <td>12.036517</td>\n      <td>2020.0</td>\n      <td>24.0</td>\n      <td>2.0</td>\n    </tr>\n    <tr>\n      <th>23</th>\n      <td>9X Lite</td>\n      <td>Honor</td>\n      <td>NaN</td>\n      <td>188.0</td>\n      <td>16.5100</td>\n      <td>160.4</td>\n      <td>76.6</td>\n      <td>7.8</td>\n      <td>11.873060</td>\n      <td>2020.0</td>\n      <td>17.0</td>\n      <td>4.0</td>\n    </tr>\n    <tr>\n      <th>40</th>\n      <td>Play 3e</td>\n      <td>Honor</td>\n      <td>NaN</td>\n      <td>146.0</td>\n      <td>14.5034</td>\n      <td>147.1</td>\n      <td>70.8</td>\n      <td>8.5</td>\n      <td>11.560810</td>\n      <td>2019.0</td>\n      <td>NaN</td>\n      <td>9.0</td>\n    </tr>\n    <tr>\n      <th>10</th>\n      <td>V280</td>\n      <td>Haier</td>\n      <td>No</td>\n      <td>80.0</td>\n      <td>NaN</td>\n      <td>109.0</td>\n      <td>44.0</td>\n      <td>14.5</td>\n      <td>9.105909</td>\n      <td>2005.0</td>\n      <td>NaN</td>\n      <td>NaN</td>\n    </tr>\n    <tr>\n      <th>22</th>\n      <td>9S</td>\n      <td>Honor</td>\n      <td>NaN</td>\n      <td>144.0</td>\n      <td>13.8430</td>\n      <td>146.5</td>\n      <td>70.9</td>\n      <td>8.4</td>\n      <td>11.560810</td>\n      <td>2020.0</td>\n      <td>29.0</td>\n      <td>4.0</td>\n    </tr>\n    <tr>\n      <th>18</th>\n      <td>X10 5G</td>\n      <td>Honor</td>\n      <td>NaN</td>\n      <td>203.0</td>\n      <td>16.8402</td>\n      <td>163.7</td>\n      <td>76.5</td>\n      <td>8.8</td>\n      <td>12.070456</td>\n      <td>2020.0</td>\n      <td>20.0</td>\n      <td>5.0</td>\n    </tr>\n    <tr>\n      <th>49</th>\n      <td>20</td>\n      <td>Honor</td>\n      <td>NaN</td>\n      <td>174.0</td>\n      <td>15.9004</td>\n      <td>154.3</td>\n      <td>74.0</td>\n      <td>7.9</td>\n      <td>11.873060</td>\n      <td>2019.0</td>\n      <td>NaN</td>\n      <td>5.0</td>\n    </tr>\n    <tr>\n      <th>20</th>\n      <td>9A</td>\n      <td>Honor</td>\n      <td>NaN</td>\n      <td>185.0</td>\n      <td>16.0020</td>\n      <td>159.1</td>\n      <td>74.1</td>\n      <td>9.0</td>\n      <td>12.288001</td>\n      <td>2020.0</td>\n      <td>29.0</td>\n      <td>4.0</td>\n    </tr>\n    <tr>\n      <th>7</th>\n      <td>Pixel 3a</td>\n      <td>Google</td>\n      <td>NaN</td>\n      <td>147.0</td>\n      <td>14.2240</td>\n      <td>151.3</td>\n      <td>70.1</td>\n      <td>8.2</td>\n      <td>11.551228</td>\n      <td>2019.0</td>\n      <td>7.0</td>\n      <td>5.0</td>\n    </tr>\n    <tr>\n      <th>42</th>\n      <td>20S</td>\n      <td>Honor</td>\n      <td>NaN</td>\n      <td>172.0</td>\n      <td>15.9004</td>\n      <td>154.3</td>\n      <td>74.0</td>\n      <td>7.9</td>\n      <td>11.873060</td>\n      <td>2019.0</td>\n      <td>NaN</td>\n      <td>9.0</td>\n    </tr>\n    <tr>\n      <th>14</th>\n      <td>Z8000</td>\n      <td>Haier</td>\n      <td>No</td>\n      <td>90.0</td>\n      <td>NaN</td>\n      <td>83.0</td>\n      <td>44.0</td>\n      <td>23.8</td>\n      <td>9.231221</td>\n      <td>2004.0</td>\n      <td>NaN</td>\n      <td>NaN</td>\n    </tr>\n    <tr>\n      <th>28</th>\n      <td>Play 4T Pro</td>\n      <td>Honor</td>\n      <td>NaN</td>\n      <td>165.0</td>\n      <td>16.0020</td>\n      <td>157.4</td>\n      <td>73.2</td>\n      <td>7.8</td>\n      <td>11.966145</td>\n      <td>2020.0</td>\n      <td>9.0</td>\n      <td>4.0</td>\n    </tr>\n    <tr>\n      <th>38</th>\n      <td>9X</td>\n      <td>Honor</td>\n      <td>NaN</td>\n      <td>196.8</td>\n      <td>16.7386</td>\n      <td>163.5</td>\n      <td>77.3</td>\n      <td>8.8</td>\n      <td>11.966145</td>\n      <td>2019.0</td>\n      <td>28.0</td>\n      <td>10.0</td>\n    </tr>\n  </tbody>\n</table>\n</div>"
     },
     "execution_count": 4,
     "metadata": {},
     "output_type": "execute_result"
    }
   ],
   "source": [
    "train_df"
   ],
   "metadata": {
    "collapsed": false,
    "ExecuteTime": {
     "end_time": "2024-03-18T18:50:19.982434Z",
     "start_time": "2024-03-18T18:50:19.937333Z"
    }
   },
   "execution_count": 4
  },
  {
   "cell_type": "code",
   "outputs": [
    {
     "data": {
      "text/plain": "        phone.model phone.oem phone.network_edge  phone.weight  \\\n13               P5     Haier                 No          75.0   \n39  20 lite (China)     Honor                NaN         171.5   \n30          8A 2020     Honor                NaN         150.0   \n45               8S     Honor                NaN         146.0   \n17        Play4 Pro     Honor                NaN         213.0   \n48           20 Pro     Honor                NaN         182.0   \n26               30     Honor                NaN         185.0   \n25           30 Pro     Honor                NaN         186.0   \n32              30S     Honor                NaN         190.0   \n19               V6     Honor                 No         480.0   \n\n    phone.display_size  phone.height  phone.width  phone.depth  phone.battery  \\\n13                 NaN         135.0         28.0         18.0       9.025140   \n39             16.0020         157.2         73.2          7.7      11.966145   \n30             15.4686         156.3         73.5          8.2      11.560810   \n45             14.5034         147.1         70.8          8.5      11.560810   \n17             16.6878         162.7         75.8          8.9      12.036517   \n48             15.9004         154.6         74.0          8.4      11.966145   \n26             16.5862         160.3         74.2          8.1      11.966145   \n25             16.6878         160.3         73.6          8.4      11.966145   \n32             16.5100         162.3         75.0          8.6      11.966145   \n19             26.4160         245.2        154.9          7.8      12.823964   \n\n    phone.launch.year  phone.launch.day  phone.launch.month  \n13             2003.0               NaN                 NaN  \n39             2019.0               NaN                10.0  \n30             2020.0              10.0                 4.0  \n45             2019.0               NaN                 4.0  \n17             2020.0               3.0                 6.0  \n48             2019.0               NaN                 5.0  \n26             2020.0              15.0                 4.0  \n25             2020.0              15.0                 4.0  \n32             2020.0              30.0                 3.0  \n19             2020.0              19.0                 5.0  ",
      "text/html": "<div>\n<style scoped>\n    .dataframe tbody tr th:only-of-type {\n        vertical-align: middle;\n    }\n\n    .dataframe tbody tr th {\n        vertical-align: top;\n    }\n\n    .dataframe thead th {\n        text-align: right;\n    }\n</style>\n<table border=\"1\" class=\"dataframe\">\n  <thead>\n    <tr style=\"text-align: right;\">\n      <th></th>\n      <th>phone.model</th>\n      <th>phone.oem</th>\n      <th>phone.network_edge</th>\n      <th>phone.weight</th>\n      <th>phone.display_size</th>\n      <th>phone.height</th>\n      <th>phone.width</th>\n      <th>phone.depth</th>\n      <th>phone.battery</th>\n      <th>phone.launch.year</th>\n      <th>phone.launch.day</th>\n      <th>phone.launch.month</th>\n    </tr>\n  </thead>\n  <tbody>\n    <tr>\n      <th>13</th>\n      <td>P5</td>\n      <td>Haier</td>\n      <td>No</td>\n      <td>75.0</td>\n      <td>NaN</td>\n      <td>135.0</td>\n      <td>28.0</td>\n      <td>18.0</td>\n      <td>9.025140</td>\n      <td>2003.0</td>\n      <td>NaN</td>\n      <td>NaN</td>\n    </tr>\n    <tr>\n      <th>39</th>\n      <td>20 lite (China)</td>\n      <td>Honor</td>\n      <td>NaN</td>\n      <td>171.5</td>\n      <td>16.0020</td>\n      <td>157.2</td>\n      <td>73.2</td>\n      <td>7.7</td>\n      <td>11.966145</td>\n      <td>2019.0</td>\n      <td>NaN</td>\n      <td>10.0</td>\n    </tr>\n    <tr>\n      <th>30</th>\n      <td>8A 2020</td>\n      <td>Honor</td>\n      <td>NaN</td>\n      <td>150.0</td>\n      <td>15.4686</td>\n      <td>156.3</td>\n      <td>73.5</td>\n      <td>8.2</td>\n      <td>11.560810</td>\n      <td>2020.0</td>\n      <td>10.0</td>\n      <td>4.0</td>\n    </tr>\n    <tr>\n      <th>45</th>\n      <td>8S</td>\n      <td>Honor</td>\n      <td>NaN</td>\n      <td>146.0</td>\n      <td>14.5034</td>\n      <td>147.1</td>\n      <td>70.8</td>\n      <td>8.5</td>\n      <td>11.560810</td>\n      <td>2019.0</td>\n      <td>NaN</td>\n      <td>4.0</td>\n    </tr>\n    <tr>\n      <th>17</th>\n      <td>Play4 Pro</td>\n      <td>Honor</td>\n      <td>NaN</td>\n      <td>213.0</td>\n      <td>16.6878</td>\n      <td>162.7</td>\n      <td>75.8</td>\n      <td>8.9</td>\n      <td>12.036517</td>\n      <td>2020.0</td>\n      <td>3.0</td>\n      <td>6.0</td>\n    </tr>\n    <tr>\n      <th>48</th>\n      <td>20 Pro</td>\n      <td>Honor</td>\n      <td>NaN</td>\n      <td>182.0</td>\n      <td>15.9004</td>\n      <td>154.6</td>\n      <td>74.0</td>\n      <td>8.4</td>\n      <td>11.966145</td>\n      <td>2019.0</td>\n      <td>NaN</td>\n      <td>5.0</td>\n    </tr>\n    <tr>\n      <th>26</th>\n      <td>30</td>\n      <td>Honor</td>\n      <td>NaN</td>\n      <td>185.0</td>\n      <td>16.5862</td>\n      <td>160.3</td>\n      <td>74.2</td>\n      <td>8.1</td>\n      <td>11.966145</td>\n      <td>2020.0</td>\n      <td>15.0</td>\n      <td>4.0</td>\n    </tr>\n    <tr>\n      <th>25</th>\n      <td>30 Pro</td>\n      <td>Honor</td>\n      <td>NaN</td>\n      <td>186.0</td>\n      <td>16.6878</td>\n      <td>160.3</td>\n      <td>73.6</td>\n      <td>8.4</td>\n      <td>11.966145</td>\n      <td>2020.0</td>\n      <td>15.0</td>\n      <td>4.0</td>\n    </tr>\n    <tr>\n      <th>32</th>\n      <td>30S</td>\n      <td>Honor</td>\n      <td>NaN</td>\n      <td>190.0</td>\n      <td>16.5100</td>\n      <td>162.3</td>\n      <td>75.0</td>\n      <td>8.6</td>\n      <td>11.966145</td>\n      <td>2020.0</td>\n      <td>30.0</td>\n      <td>3.0</td>\n    </tr>\n    <tr>\n      <th>19</th>\n      <td>V6</td>\n      <td>Honor</td>\n      <td>No</td>\n      <td>480.0</td>\n      <td>26.4160</td>\n      <td>245.2</td>\n      <td>154.9</td>\n      <td>7.8</td>\n      <td>12.823964</td>\n      <td>2020.0</td>\n      <td>19.0</td>\n      <td>5.0</td>\n    </tr>\n  </tbody>\n</table>\n</div>"
     },
     "execution_count": 6,
     "metadata": {},
     "output_type": "execute_result"
    }
   ],
   "source": [
    "test_df"
   ],
   "metadata": {
    "collapsed": false,
    "ExecuteTime": {
     "end_time": "2024-03-18T18:55:39.116795Z",
     "start_time": "2024-03-18T18:55:39.087188Z"
    }
   },
   "execution_count": 6
  },
  {
   "cell_type": "code",
   "execution_count": 5,
   "metadata": {
    "ExecuteTime": {
     "end_time": "2024-03-18T18:50:39.959464Z",
     "start_time": "2024-03-18T18:50:39.937585Z"
    }
   },
   "outputs": [
    {
     "name": "stdout",
     "output_type": "stream",
     "text": [
      "phone.weight 27 10\n",
      "5 missing from train {480.0, 75.0, 171.5, 182.0, 186.0}\n",
      "phone.height 29 9\n",
      "5 missing from train {162.3, 135.0, 245.2, 154.6, 157.2}\n",
      "phone.depth 20 9\n",
      "3 missing from train {8.6, 18.0, 7.7}\n",
      "phone.width 28 10\n",
      "4 missing from train {74.2, 75.0, 28.0, 154.9}\n",
      "phone.display_size 22 9\n",
      "3 missing from train {nan, 16.5862, 26.416}\n",
      "phone.battery 20 5\n",
      "2 missing from train {9.025139562278508, 12.823964258486738}\n",
      "phone.launch.day 14 6\n",
      "3 missing from train {nan, 10.0, 19.0}\n",
      "phone.launch.month 11 6\n",
      "1 missing from train {nan}\n",
      "phone.launch.year 7 3\n",
      "1 missing from train {2003.0}\n",
      "phone.oem 6 2\n",
      "0 missing from train set()\n",
      "phone.network_edge 2 2\n",
      "0 missing from train set()\n",
      "phone.model 40 10\n",
      "10 missing from train {'8S', 'P5', '30 Pro', 'Play4 Pro', '20 Pro', '30S', 'V6', '30', '8A 2020', '20 lite (China)'}\n"
     ]
    }
   ],
   "source": [
    "uniques = {}\n",
    "for col in dataset.df.columns:\n",
    "    uniques[col] = (set(train_df[col].unique()), set(test_df[col].unique()))\n",
    "    print(col, len(uniques[col][0]), len(uniques[col][1]))\n",
    "    missing = uniques[col][1] - uniques[col][0]\n",
    "    print(f\"{len(missing)} missing from train\", missing)\n"
   ]
  },
  {
   "cell_type": "code",
   "execution_count": 7,
   "metadata": {
    "ExecuteTime": {
     "end_time": "2024-03-18T18:56:31.514217Z",
     "start_time": "2024-03-18T18:56:31.479722Z"
    }
   },
   "outputs": [],
   "source": [
    "import pandas as pd\n",
    "merged = pd.merge(train_df, test_df, on=['phone.model', \"phone.oem\"], how='inner')"
   ]
  },
  {
   "cell_type": "code",
   "execution_count": 8,
   "metadata": {
    "ExecuteTime": {
     "end_time": "2024-03-18T18:56:34.561233Z",
     "start_time": "2024-03-18T18:56:34.552639Z"
    }
   },
   "outputs": [
    {
     "name": "stdout",
     "output_type": "stream",
     "text": []
    }
   ],
   "source": [
    "print(*merged[\"phone.model\"].to_list(), sep=\"\\n\")"
   ]
  },
  {
   "cell_type": "code",
   "execution_count": 9,
   "metadata": {
    "ExecuteTime": {
     "end_time": "2024-03-18T18:56:39.084010Z",
     "start_time": "2024-03-18T18:56:39.072415Z"
    }
   },
   "outputs": [
    {
     "data": {
      "text/plain": "0"
     },
     "execution_count": 9,
     "metadata": {},
     "output_type": "execute_result"
    }
   ],
   "source": [
    "len(uniques[\"phone.model\"][0] & uniques[\"phone.model\"][1])"
   ]
  },
  {
   "cell_type": "code",
   "execution_count": null,
   "metadata": {},
   "outputs": [],
   "source": []
  }
 ],
 "metadata": {
  "kernelspec": {
   "display_name": "Python 3",
   "language": "python",
   "name": "python3"
  },
  "language_info": {
   "codemirror_mode": {
    "name": "ipython",
    "version": 3
   },
   "file_extension": ".py",
   "mimetype": "text/x-python",
   "name": "python",
   "nbconvert_exporter": "python",
   "pygments_lexer": "ipython3",
   "version": "3.10.6"
  },
  "orig_nbformat": 4
 },
 "nbformat": 4,
 "nbformat_minor": 2
}
