{
 "cells": [
  {
   "cell_type": "code",
   "execution_count": 1,
   "metadata": {},
   "outputs": [
    {
     "name": "stdout",
     "output_type": "stream",
     "text": [
      "Config:  {'d_model': 256, 'd_ff_mult': 2, 'nhead': 2, 'num_layers': 4, 'field_encoder_layers': 2, 'field_decoder_layers': 3, 'num_emb': 'periodic', 'tie_numerical_embeddings': False, 'tie_numerical_decoders': False, 'tie_mask_embeddings': True, 'epochs': 100, 'batch_size': 64, 'lr': 0.0001, 'weight_decay': 0.0, 'dropout': 0.0, 'mask_rate': (-1, 0.5), 'wandb': False, 'tags': ['train-text'], 'device': 'cuda:0', 'seed': 42, 'rootdir': '/checkpoint/nolte/kbgen', 'ckpt': '', 'model': 'decoder-only', 'tokenizer': 'gpt2', 'encoder_readout': 'separate', 'use_mup': False, 'num_fields': 12, 'vocab_size': 50258, 'fields': Fields([('numerical', ['phone.weight', 'phone.height', 'phone.depth', 'phone.width', 'phone.display_size', 'phone.battery', 'phone.launch.day', 'phone.launch.month', 'phone.launch.year']), ('categorical', ['phone.oem', 'phone.network_edge']), ('text', ['phone.model'])]), 'categorical_num_classes': {'phone.oem': 117, 'phone.network_edge': 51}, 'numerical_pad_token_id': -1000, 'categorical_pad_token_id': 0}\n"
     ]
    }
   ],
   "source": [
    "import os, sys\n",
    "sys.path.insert(0, os.path.abspath(\"..\"))\n",
    "from kbgen.config import rootdir, defaults_text as config\n",
    "from kbgen.utils.cli import parse_args\n",
    "from kbgen.data.datasets import GSM\n",
    "import torch\n",
    "from kbgen.data.datasets import DataLoader\n",
    "from kbgen.utils.tokenizer import GPT2Tokenizer\n",
    "import tqdm\n",
    "from kbgen.model.modules import TextEncoder\n",
    "from kbgen.utils.log import RunTracker\n",
    "\n",
    "# DATA -----------------------------------------------------\n",
    "# device = config[\"device\"] if torch.cuda.is_available() else \"cpu\"\n",
    "device = \"cpu\"\n",
    "dataset = GSM.from_config(config, update=True)\n",
    "print(\"Config: \", config)\n",
    "STRING_COLLECTION = dataset.as_strings()\n",
    "\n",
    "# %%\n",
    "tokenizer = GPT2Tokenizer()\n",
    "tokens, pad_mask = tokenizer(STRING_COLLECTION).values()\n",
    "pad_mask = (pad_mask == 0).float().masked_fill(pad_mask == 0, float(\"-inf\"))\n",
    "\n",
    "stringfy = dataset.stringify"
   ]
  },
  {
   "cell_type": "code",
   "execution_count": 2,
   "metadata": {},
   "outputs": [
    {
     "data": {
      "text/plain": [
       "'phone.model : Vega | phone.oem : Benefon | phone.network_edge : No | phone.weight : 190.00 | phone.display_size : <pad> | phone.height : 145.00 | phone.width : 56.00 | phone.depth : 23.00 | phone.battery : <pad> | phone.launch.year : 1999.00 | phone.launch.day : <pad> | phone.launch.month : <pad>'"
      ]
     },
     "execution_count": 2,
     "metadata": {},
     "output_type": "execute_result"
    }
   ],
   "source": [
    "STRING_COLLECTION[0]"
   ]
  },
  {
   "cell_type": "code",
   "execution_count": 14,
   "metadata": {},
   "outputs": [
    {
     "name": "stdout",
     "output_type": "stream",
     "text": [
      "failed: W:)\n",
      "phone.model : :) Smiley | phone.oem : Samsung | phone.network_edge : Class 10 | phone.weight : 112.80 | phone.display_size : <pad> | phone.height : 99.60 | phone.width : 59.40 | phone.depth : 15.00 | phone.battery : 9.97 | phone.launch.year : 2010.00 | phone.launch.day : <pad> | phone.launch.month : 6.00\n"
     ]
    }
   ],
   "source": [
    "for string in STRING_COLLECTION:\n",
    "  for txt in tokenizer(string)['input_ids'].view(-1, 1):\n",
    "    element = tokenizer.decode(txt)\n",
    "    if (\".\" in element or \":\" in element or \"|\" in element) and len(element.strip()) > 1:\n",
    "      if element != \"<|endoftext|>\":\n",
    "        print(\"failed:\", element.replace(\" \", \"W\"))\n",
    "        print(string)\n",
    "  # else:\n",
    "  #   break"
   ]
  },
  {
   "cell_type": "code",
   "execution_count": 2,
   "metadata": {},
   "outputs": [
    {
     "name": "stdout",
     "output_type": "stream",
     "text": [
      "{'phone': {'model': 'nuvifone M10', 'oem': 0, 'network_edge': 0, 'weight': nan, 'height': nan, 'depth': nan, 'width': nan, 'display_size': 8.89, 'battery': 10.55, 'launch': {'day': nan, 'month': 1.0, 'year': 2010.0}}}\n",
      "{'phone.model': 'nuvifone M10', 'phone.oem': 'Garmin-Asus', 'phone.network_edge': nan, 'phone.weight': nan, 'phone.display_size': 8.89, 'phone.height': nan, 'phone.width': nan, 'phone.depth': nan, 'phone.battery': 10.55170826162069, 'phone.launch.year': 2010.0, 'phone.launch.day': nan, 'phone.launch.month': 1.0}\n"
     ]
    }
   ],
   "source": [
    "def convert_to_types(string:str) -> dict:\n",
    "  import re\n",
    "  try:\n",
    "    def _recursive_destringify(input_:dict):\n",
    "      for key, value in input_.items():\n",
    "          if isinstance(value, dict):\n",
    "            input_[key] = _recursive_destringify(value)\n",
    "          else:\n",
    "            try:\n",
    "              content = re.findall(r\"\\[(.*?),(.*)\\]\", value)\n",
    "              content = content[0]\n",
    "              type_ = content[0].strip()\n",
    "              value_ = content[1].strip()\n",
    "              if type_ == \"numerical\":\n",
    "                try:\n",
    "                  value_ = float(value_)\n",
    "                except:\n",
    "                  value_ = float(\"nan\")\n",
    "              elif type_ == \"categorical\":\n",
    "                value_ = dataset.categorical_str_to_id.get(value_, 0)\n",
    "              input_[key] = value_\n",
    "            except Exception as e:\n",
    "              print(e)\n",
    "              input_[key] = float(\"nan\")\n",
    "      return input_\n",
    "\n",
    "    should_be_dict = eval(string)\n",
    "    return _recursive_destringify(should_be_dict)\n",
    "  except SyntaxError as e:\n",
    "    print(e)\n",
    "\n",
    "print(convert_to_types(dataset.stringfy(dataset._df.iloc[1])))\n",
    "print(dataset._df.iloc[1].to_dict())"
   ]
  },
  {
   "cell_type": "code",
   "execution_count": 8,
   "metadata": {},
   "outputs": [
    {
     "data": {
      "text/plain": [
       "{'a': 1.0, 'b': 0}"
      ]
     },
     "execution_count": 8,
     "metadata": {},
     "output_type": "execute_result"
    }
   ],
   "source": [
    "string = \"{ 'a': '[ numerical , 1.0 ]', 'b': '[ categorical , a ]'}\"\n",
    "convert_to_types(string)"
   ]
  },
  {
   "cell_type": "code",
   "execution_count": 15,
   "metadata": {},
   "outputs": [],
   "source": [
    "# tracker = RunTracker.from_logdir(rootdir + \"/models/09-06-07-34-19train-textdecoder-only_l4_d256\")\n",
    "tracker = RunTracker.from_logdir(rootdir + \"/models/09-06-08-57-44train-textdecoder-only_l4_d256\")"
   ]
  },
  {
   "cell_type": "code",
   "execution_count": 16,
   "metadata": {},
   "outputs": [
    {
     "name": "stdout",
     "output_type": "stream",
     "text": [
      "Loading model from: /checkpoint/nolte/kbgen/models/09-06-08-57-44train-textdecoder-only_l4_d256/99.pt\n"
     ]
    }
   ],
   "source": [
    "model = tracker.load_latest_model()"
   ]
  },
  {
   "cell_type": "code",
   "execution_count": 68,
   "metadata": {},
   "outputs": [
    {
     "name": "stdout",
     "output_type": "stream",
     "text": [
      "['phone', '.', 'model', ' :', ' Vega', ' |', ' phone', '.', 'o', 'em', ' :', ' Benef', 'on', '<|endoftext|>']\n"
     ]
    },
    {
     "data": {
      "text/plain": [
       "['5',\n",
       " ' E',\n",
       " ' :',\n",
       " ' V',\n",
       " ' |',\n",
       " ' phone',\n",
       " '.',\n",
       " 'o',\n",
       " 'em',\n",
       " ' :',\n",
       " ' Sony',\n",
       " 'on',\n",
       " ' |']"
      ]
     },
     "execution_count": 68,
     "metadata": {},
     "output_type": "execute_result"
    }
   ],
   "source": [
    "input_ = dataset.as_strings()[0][:40]\n",
    "print([tokenizer.decode(i) for i in tokenizer(input_)[\"input_ids\"].view(-1, 1)])\n",
    "text = list(tokenizer(input_).values())[0][:, :-1]\n",
    "[tokenizer.decode(i) for i in model.encode(text, is_causal=True).argmax(-1).view(-1, 1)]"
   ]
  },
  {
   "cell_type": "code",
   "execution_count": null,
   "metadata": {},
   "outputs": [],
   "source": [
    "def metrics_on_dict():"
   ]
  }
 ],
 "metadata": {
  "kernelspec": {
   "display_name": "sandbox",
   "language": "python",
   "name": "python3"
  },
  "language_info": {
   "codemirror_mode": {
    "name": "ipython",
    "version": 3
   },
   "file_extension": ".py",
   "mimetype": "text/x-python",
   "name": "python",
   "nbconvert_exporter": "python",
   "pygments_lexer": "ipython3",
   "version": "3.11.3"
  },
  "orig_nbformat": 4
 },
 "nbformat": 4,
 "nbformat_minor": 2
}
