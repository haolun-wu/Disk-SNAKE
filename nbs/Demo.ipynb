{
 "cells": [
  {
   "cell_type": "markdown",
   "metadata": {},
   "source": [
    "# Load model and dataset\n",
    "First, we load the model and dataset. The model is pretrained and saved locally under `rootdir` in `config.py`."
   ]
  },
  {
   "cell_type": "code",
   "execution_count": 1,
   "metadata": {},
   "outputs": [
    {
     "name": "stdout",
     "output_type": "stream",
     "text": [
      "Loading model from: ../model_weights/999.pt\n",
      "{'d_model': 512, 'd_ff_mult': 2, 'nhead': 2, 'num_layers': 4, 'field_encoder_layers': 2, 'field_decoder_layers': 3, 'num_emb': 'periodic', 'tie_numerical_embeddings': False, 'tie_numerical_decoders': False, 'tie_mask_embeddings': True, 'epochs': 1000, 'batch_size': 32, 'lr': 0.0001, 'weight_decay': 0, 'dropout': 0.0, 'mask_rate': [-1, 0.5], 'wandb': True, 'tags': ['MaskOnlyLossAttn', 'grad_works'], 'device': 'cuda:0', 'seed': 42, 'rootdir': '/logdir', 'ckpt': '', 'text_model': 'custom', 'tie_embeddings': True, 'tokenizer': 'gpt2', 'text_decoder_layers': 4, 'text_encoder_layers': 4, 'use_mup': True, 'num_fields': 12, 'vocab_size': 50258, 'fields': Fields([('numerical', ['phone.weight', 'phone.height', 'phone.depth', 'phone.width', 'phone.display_size', 'phone.battery', 'phone.launch.day', 'phone.launch.month', 'phone.launch.year']), ('categorical', ['phone.oem', 'phone.network_edge']), ('text', ['phone.model'])]), 'categorical_num_classes': {'phone.oem': 117, 'phone.network_edge': 51}, 'numerical_pad_token_id': -1000, 'categorical_pad_token_id': 0}\n"
     ]
    }
   ],
   "source": [
    "import os\n",
    "import sys\n",
    "# adding project directory to path, this is a bit hacky and may not work for all\n",
    "sys.path.insert(0, os.path.abspath(os.path.dirname(os.path.abspath(''))))\n",
    "\n",
    "from evaluation import Demo\n",
    "demo = Demo()\n",
    "model, dataset, run = demo.load_run(model_path=\"../model_weights/\")"
   ]
  },
  {
   "cell_type": "markdown",
   "metadata": {},
   "source": [
    "Let's take a look at the fields we can play around with and the range of values they can take."
   ]
  },
  {
   "cell_type": "code",
   "execution_count": 2,
   "metadata": {},
   "outputs": [
    {
     "name": "stdout",
     "output_type": "stream",
     "text": [
      "* numerical\n",
      "\t- phone.weight        [4.0, 2018.3]\n",
      "\t- phone.height        [23.0, 451.8]\n",
      "\t- phone.depth         [0.0, 75.0]\n",
      "\t- phone.width         [15.7, 283.2]\n",
      "\t- phone.display_size  [2.413, 46.736]\n",
      "\t- phone.battery       [0.0, 13.550867004960905]\n",
      "\t- phone.launch.day    [1.0, 31.0]\n",
      "\t- phone.launch.month  [1.0, 12.0]\n",
      "\t- phone.launch.year   [1994.0, 2020.0]\n",
      "* categorical\n",
      "\t- phone.oem\n",
      "\t- phone.network_edge\n",
      "* text\n",
      "\t- phone.model\n"
     ]
    }
   ],
   "source": [
    "demo.print_fields()"
   ]
  },
  {
   "cell_type": "markdown",
   "metadata": {},
   "source": [
    "For a full description of the data we can also directly look at the dataframe saved in the dataset object."
   ]
  },
  {
   "cell_type": "code",
   "execution_count": 3,
   "metadata": {},
   "outputs": [
    {
     "data": {
      "text/html": [
       "<div>\n",
       "<style scoped>\n",
       "    .dataframe tbody tr th:only-of-type {\n",
       "        vertical-align: middle;\n",
       "    }\n",
       "\n",
       "    .dataframe tbody tr th {\n",
       "        vertical-align: top;\n",
       "    }\n",
       "\n",
       "    .dataframe thead th {\n",
       "        text-align: right;\n",
       "    }\n",
       "</style>\n",
       "<table border=\"1\" class=\"dataframe\">\n",
       "  <thead>\n",
       "    <tr style=\"text-align: right;\">\n",
       "      <th></th>\n",
       "      <th>phone.weight</th>\n",
       "      <th>phone.display_size</th>\n",
       "      <th>phone.height</th>\n",
       "      <th>phone.width</th>\n",
       "      <th>phone.depth</th>\n",
       "      <th>phone.battery</th>\n",
       "      <th>phone.launch.year</th>\n",
       "      <th>phone.launch.day</th>\n",
       "      <th>phone.launch.month</th>\n",
       "    </tr>\n",
       "  </thead>\n",
       "  <tbody>\n",
       "    <tr>\n",
       "      <th>count</th>\n",
       "      <td>9626.000000</td>\n",
       "      <td>9268.000000</td>\n",
       "      <td>10287.000000</td>\n",
       "      <td>10287.000000</td>\n",
       "      <td>10287.000000</td>\n",
       "      <td>9554.000000</td>\n",
       "      <td>10588.000000</td>\n",
       "      <td>507.000000</td>\n",
       "      <td>9411.000000</td>\n",
       "    </tr>\n",
       "    <tr>\n",
       "      <th>mean</th>\n",
       "      <td>147.995917</td>\n",
       "      <td>10.821959</td>\n",
       "      <td>129.369272</td>\n",
       "      <td>65.739584</td>\n",
       "      <td>13.014980</td>\n",
       "      <td>10.731901</td>\n",
       "      <td>2011.634964</td>\n",
       "      <td>15.948718</td>\n",
       "      <td>6.130592</td>\n",
       "    </tr>\n",
       "    <tr>\n",
       "      <th>std</th>\n",
       "      <td>93.984026</td>\n",
       "      <td>5.059618</td>\n",
       "      <td>34.636882</td>\n",
       "      <td>24.429045</td>\n",
       "      <td>5.249419</td>\n",
       "      <td>0.978098</td>\n",
       "      <td>5.158068</td>\n",
       "      <td>8.376122</td>\n",
       "      <td>3.391471</td>\n",
       "    </tr>\n",
       "    <tr>\n",
       "      <th>min</th>\n",
       "      <td>4.000000</td>\n",
       "      <td>2.413000</td>\n",
       "      <td>23.000000</td>\n",
       "      <td>15.700000</td>\n",
       "      <td>0.000000</td>\n",
       "      <td>0.000000</td>\n",
       "      <td>1994.000000</td>\n",
       "      <td>1.000000</td>\n",
       "      <td>1.000000</td>\n",
       "    </tr>\n",
       "    <tr>\n",
       "      <th>25%</th>\n",
       "      <td>96.000000</td>\n",
       "      <td>6.096000</td>\n",
       "      <td>106.000000</td>\n",
       "      <td>49.000000</td>\n",
       "      <td>8.900000</td>\n",
       "      <td>9.967226</td>\n",
       "      <td>2008.000000</td>\n",
       "      <td>8.000000</td>\n",
       "      <td>3.000000</td>\n",
       "    </tr>\n",
       "    <tr>\n",
       "      <th>50%</th>\n",
       "      <td>130.000000</td>\n",
       "      <td>10.922000</td>\n",
       "      <td>123.000000</td>\n",
       "      <td>63.000000</td>\n",
       "      <td>11.500000</td>\n",
       "      <td>10.732167</td>\n",
       "      <td>2012.000000</td>\n",
       "      <td>16.000000</td>\n",
       "      <td>6.000000</td>\n",
       "    </tr>\n",
       "    <tr>\n",
       "      <th>75%</th>\n",
       "      <td>165.000000</td>\n",
       "      <td>13.970000</td>\n",
       "      <td>148.700000</td>\n",
       "      <td>73.300000</td>\n",
       "      <td>15.900000</td>\n",
       "      <td>11.551228</td>\n",
       "      <td>2015.000000</td>\n",
       "      <td>24.000000</td>\n",
       "      <td>9.000000</td>\n",
       "    </tr>\n",
       "    <tr>\n",
       "      <th>max</th>\n",
       "      <td>2018.300000</td>\n",
       "      <td>46.736000</td>\n",
       "      <td>451.800000</td>\n",
       "      <td>283.200000</td>\n",
       "      <td>75.000000</td>\n",
       "      <td>13.550867</td>\n",
       "      <td>2020.000000</td>\n",
       "      <td>31.000000</td>\n",
       "      <td>12.000000</td>\n",
       "    </tr>\n",
       "  </tbody>\n",
       "</table>\n",
       "</div>"
      ],
      "text/plain": [
       "       phone.weight  phone.display_size  phone.height   phone.width  \\\n",
       "count   9626.000000         9268.000000  10287.000000  10287.000000   \n",
       "mean     147.995917           10.821959    129.369272     65.739584   \n",
       "std       93.984026            5.059618     34.636882     24.429045   \n",
       "min        4.000000            2.413000     23.000000     15.700000   \n",
       "25%       96.000000            6.096000    106.000000     49.000000   \n",
       "50%      130.000000           10.922000    123.000000     63.000000   \n",
       "75%      165.000000           13.970000    148.700000     73.300000   \n",
       "max     2018.300000           46.736000    451.800000    283.200000   \n",
       "\n",
       "        phone.depth  phone.battery  phone.launch.year  phone.launch.day  \\\n",
       "count  10287.000000    9554.000000       10588.000000        507.000000   \n",
       "mean      13.014980      10.731901        2011.634964         15.948718   \n",
       "std        5.249419       0.978098           5.158068          8.376122   \n",
       "min        0.000000       0.000000        1994.000000          1.000000   \n",
       "25%        8.900000       9.967226        2008.000000          8.000000   \n",
       "50%       11.500000      10.732167        2012.000000         16.000000   \n",
       "75%       15.900000      11.551228        2015.000000         24.000000   \n",
       "max       75.000000      13.550867        2020.000000         31.000000   \n",
       "\n",
       "       phone.launch.month  \n",
       "count         9411.000000  \n",
       "mean             6.130592  \n",
       "std              3.391471  \n",
       "min              1.000000  \n",
       "25%              3.000000  \n",
       "50%              6.000000  \n",
       "75%              9.000000  \n",
       "max             12.000000  "
      ]
     },
     "execution_count": 3,
     "metadata": {},
     "output_type": "execute_result"
    }
   ],
   "source": [
    "dataset._df.describe()"
   ]
  },
  {
   "cell_type": "markdown",
   "metadata": {},
   "source": [
    "```\n",
    "        The method below is used to sample data from the dataset.\n",
    "\n",
    "        Args:\n",
    "            num (int): The number of samples to be drawn from the dataset.\n",
    "            input_dict (dict): A dictionary containing the data we want to give as input to the model.\n",
    "                The keys are the field names and the values are the corresponding data.\n",
    "            mask_none (bool, optional): If True, the fields with None values in the input_dict will be masked.\n",
    "                Otherwise, they will be resampled. Defaults to False.\n",
    "            temp (int, optional): The temperature parameter for the sampling process. \n",
    "                Higher values make the sampling more random, lower values make it more deterministic. \n",
    "                Defaults to 0.\n",
    "            resample_given (bool, optional): If True, the fields with given values in the input_dict will\n",
    "                be resampled. Defaults to False.\n",
    "\n",
    "        Returns:\n",
    "            dict: A dictionary containing the sampled data. The keys are the field names and the values are the corresponding sampled data.\n",
    "```"
   ]
  },
  {
   "cell_type": "code",
   "execution_count": 4,
   "metadata": {},
   "outputs": [
    {
     "name": "stdout",
     "output_type": "stream",
     "text": [
      "phone.weight         143.78152465820312\n",
      "phone.height         123.86957550048828\n",
      "phone.launch.year    2014.651123046875\n",
      "phone.oem            Samsung\n",
      "phone.network_edge   Yes\n"
     ]
    }
   ],
   "source": [
    "using_dict = {'phone.weight': None, # Set to None to hide\n",
    "              'phone.height' : None, # 129\n",
    "              'phone.depth' : 20, \n",
    "              'phone.width' : 60, \n",
    "              'phone.display_size' : 150, \n",
    "              'phone.battery' : 10, \n",
    "              'phone.launch.day' : 5, \n",
    "              'phone.launch.month': 4, \n",
    "              'phone.launch.year': None, \n",
    "              'phone.oem' :None, \n",
    "              'phone.network_edge': None, \n",
    "              'phone.model':\"Galaxy S4\"} # Set to None to hide\n",
    "\n",
    "result = demo.sample(1, using_dict, mask_none=True, temp=0., resample_given=False)\n",
    "result.result_dict = {k: v for k, v in result.result_dict.items() if using_dict[k] is None}\n",
    "print(result)"
   ]
  },
  {
   "cell_type": "code",
   "execution_count": null,
   "metadata": {},
   "outputs": [],
   "source": []
  }
 ],
 "metadata": {
  "kernelspec": {
   "display_name": "Python 3",
   "language": "python",
   "name": "python3"
  },
  "language_info": {
   "codemirror_mode": {
    "name": "ipython",
    "version": 3
   },
   "file_extension": ".py",
   "mimetype": "text/x-python",
   "name": "python",
   "nbconvert_exporter": "python",
   "pygments_lexer": "ipython3",
   "version": "3.10.6"
  },
  "orig_nbformat": 4
 },
 "nbformat": 4,
 "nbformat_minor": 2
}
