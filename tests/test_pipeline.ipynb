{
 "cells": [
  {
   "cell_type": "code",
   "execution_count": 23,
   "metadata": {},
   "outputs": [
    {
     "name": "stdout",
     "output_type": "stream",
     "text": [
      "{'d_model': 256, 'nhead': 2, 'num_layers': 1, 'field_encoder_layers': 2, 'field_decoder_layers': 2, 'text_decoder_layers': 1, 'text_encoder_layers': 1, 'num_emb': 'dice', 'tie_embeddings': True, 'tie_numerical_embeddings': True, 'num_target_scalar': True, 'epochs': 10000, 'batch_size': 4096, 'lr': 0.0001, 'weight_decay': 0, 'dropout': 0.0, 'mask_rate': (0.1, 0), 'wandb': False, 'tags': ['test'], 'device': 'cuda:0', 'seed': 42, 'num_fields': 13, 'vocab_size': 7536, 'fields': Fields([('numerical', ['dummy']), ('categorical', ['dummy_cat']), ('text', [])]), 'rootdir': '/home/user/logdir'}\n"
     ]
    }
   ],
   "source": [
    "from train import config as defaults\n",
    "from kbgen.model import KBFormer, mup_model\n",
    "from kbgen.model.modules import _ResBlock\n",
    "import torch\n",
    "from kbgen.utils import Fields, TensorDict\n",
    "import tqdm\n",
    "from matplotlib import pyplot as plt\n",
    "import mup\n",
    "import numpy as np\n",
    "from sklearn.preprocessing import MinMaxScaler\n",
    "\n",
    "scaler = MinMaxScaler(feature_range=(1, 2))\n",
    "\n",
    "test_fields = Fields(\n",
    "            # numerical=[],\n",
    "            numerical=[\"dummy\"],\n",
    "            categorical=[\"dummy_cat\"],\n",
    "            # categorical=[],\n",
    "            text=[],\n",
    "        )\n",
    "defaults[\"fields\"] = test_fields\n",
    "defaults[\"num_emb\"] = \"dice\"\n",
    "defaults[\"tie_numerical_embeddings\"] = True\n",
    "defaults[\"tie_embeddings\"] = True\n",
    "defaults[\"num_target_scalar\"] = True\n",
    "defaults[\"d_model\"] = 256\n",
    "print(defaults)"
   ]
  },
  {
   "cell_type": "code",
   "execution_count": 24,
   "metadata": {},
   "outputs": [],
   "source": [
    "# input_dict = TensorDict({\"dummy\": torch.arange(10),\n",
    "#                                 \"dummy_cat\": torch.arange(10) % 5,\n",
    "#                                 }, fields=test_fields)\n",
    "# print(\"This is what a tensor_dict looks like\\n\", input_dict)\n",
    "# # initialize a model\n",
    "# torch.manual_seed(defaults[\"seed\"])\n",
    "# model = mup_model(KBFormer, {\"d_model\": defaults[\"d_model\"]}, defaults)\n",
    "# # let's embed the dummy field\n",
    "# emb_dict = model.embed_properties(input_dict)\n",
    "# print(\"\\nThis is the shape for the embedding of the dummy variable\\n\", emb_dict[\"dummy\"].shape)\n",
    "# preds, targets = model(input_dict)\n",
    "# print(\"\\nThis is the output of the model\\n\", preds, targets)"
   ]
  },
  {
   "cell_type": "code",
   "execution_count": 25,
   "metadata": {},
   "outputs": [],
   "source": [
    "# import pandas as pd\n",
    "# from kbgen.data.datasets import GSM\n",
    "# from kbgen.utils.log import rootdir\n",
    "# dataset = GSM(rootdir + \"/data/gsm\")\n",
    "# dataset.df[dataset.fields[\"numerical\"]].replace(\"<pad>\", np.nan).max()\n",
    "# df = dataset.df.replace(\"<pad>\", np.nan).to_dict(orient=\"series\")\n",
    "# dummy = df.pop(\"<dummy>\")\n",
    "# df = dataset.reverse_transform(df)\n",
    "# df[\"<dummy>\"] = dummy\n",
    "# df = pd.DataFrame(df)\n",
    "# df = df[dataset._df.columns]\n",
    "# dataset._df == df\n",
    "# df[\"phone.display_size\"].values, dataset._df[\"phone.display_size\"].values"
   ]
  },
  {
   "cell_type": "code",
   "execution_count": 26,
   "metadata": {},
   "outputs": [],
   "source": [
    "torch.manual_seed(defaults[\"seed\"])\n",
    "n_samples = 1000\n",
    "X = np.linspace(1940, 2010, n_samples)\n",
    "X = scaler.fit_transform(X.reshape(-1, 1))\n",
    "X = torch.tensor(X).float().view(-1)\n",
    "X = X[torch.randperm(n_samples)]\n",
    "X_train = X[:int(n_samples * 0.8)]\n",
    "X_test = X[int(n_samples * 0.8):]\n",
    "cat_train = torch.randint(0, 5, (int(n_samples * 0.8),))\n",
    "cat_test = torch.randint(0, 5, (int(n_samples * 0.2),))\n",
    "input_dict = TensorDict({\"dummy\": X_train,\n",
    "                                \"dummy_cat\": cat_train,\n",
    "                                }, fields=test_fields)\n",
    "\n",
    "torch.manual_seed(defaults[\"seed\"])\n",
    "model = mup_model(KBFormer, {\"d_model\": defaults[\"d_model\"]}, defaults)"
   ]
  },
  {
   "cell_type": "code",
   "execution_count": 27,
   "metadata": {},
   "outputs": [],
   "source": [
    "# # train categorical\n",
    "# for _ in (pbar:=tqdm.trange(1000)):\n",
    "#     preds, targets = model(input_dict)\n",
    "#     losses = {}\n",
    "#     for field in defaults[\"fields\"][\"categorical\"]:\n",
    "#         target = targets[field]\n",
    "#         pred = preds[field]\n",
    "#         losses[field] = torch.nn.functional.cross_entropy(pred, target)\n",
    "#     loss:torch.Tensor = sum(losses.values()) # type: ignore\n",
    "#     optimizer.zero_grad()\n",
    "#     loss.backward()\n",
    "#     optimizer.step()\n",
    "#     with torch.no_grad():\n",
    "#         acc = (pred.argmax(dim=-1) == target).float().mean()\n",
    "#     pbar.set_description(f\"Loss: {loss.item():.3f}, Acc: {acc.item():.3f}\")\n"
   ]
  },
  {
   "cell_type": "code",
   "execution_count": 28,
   "metadata": {},
   "outputs": [],
   "source": [
    "# x = torch.linspace(0, 100, 1000)\n",
    "# test_token_dict = TensorDict({\"dummy\": x, \"dummy_cat\" : x.long()%6}, fields=test_fields)\n",
    "# mask = torch.zeros(len(x), 2)\n",
    "# mask[:, 0] = -torch.inf\n",
    "# preds, targets = model(test_token_dict, property_mask=mask)\n",
    "# (preds[\"dummy_cat\"].argmax(-1) == targets[\"dummy_cat\"]).float().mean()"
   ]
  },
  {
   "cell_type": "code",
   "execution_count": 29,
   "metadata": {},
   "outputs": [],
   "source": [
    "for name, p in model.named_parameters():\n",
    "    if p.grad is None:\n",
    "        continue\n",
    "    print(name, p.shape, p.view(-1)[:3], p.grad.view(-1)[:3])\n",
    "    break"
   ]
  },
  {
   "cell_type": "code",
   "execution_count": 51,
   "metadata": {},
   "outputs": [
    {
     "data": {
      "text/plain": [
       "tensor([0., 1., 2., 3., 4., 5., 6., 7., 8., 9.], device='cuda:0',\n",
       "       dtype=torch.float64)"
      ]
     },
     "execution_count": 51,
     "metadata": {},
     "output_type": "execute_result"
    }
   ],
   "source": [
    "torch.arange(10, dtype=float).view(-1, 1).norm(dim=-1)"
   ]
  },
  {
   "cell_type": "code",
   "execution_count": 38,
   "metadata": {},
   "outputs": [
    {
     "name": "stderr",
     "output_type": "stream",
     "text": [
      "dummy 0.01  | dummy_cat 0.00 :   1%|          | 6/1000 [00:00<00:17, 55.88it/s]"
     ]
    },
    {
     "name": "stderr",
     "output_type": "stream",
     "text": [
      "dummy 0.01  | dummy_cat 0.00 : 100%|██████████| 1000/1000 [00:17<00:00, 57.84it/s]\n"
     ]
    }
   ],
   "source": [
    "optimizer = mup.MuAdamW(model.parameters(), lr=1e-5, weight_decay=0)\n",
    "for _ in (pbar:=tqdm.trange(1000)):\n",
    "    preds, targets = model(input_dict)\n",
    "    losses = {}\n",
    "    for field in defaults[\"fields\"][\"numerical\"]:\n",
    "        target = targets[field].float().view(-1, 1)\n",
    "        norm = target.norm(dim=-1) + 1e-6\n",
    "        pred = preds[field]\n",
    "        losses[field] = ((pred - target)/norm).pow(2).mean().sqrt()/10\n",
    "    for field in defaults[\"fields\"][\"categorical\"]:\n",
    "        target = targets[field]\n",
    "        pred = preds[field]\n",
    "        losses[field] = torch.nn.functional.cross_entropy(pred, target)\n",
    "    loss:torch.Tensor = sum(losses.values())/len(losses) # type: ignore\n",
    "    optimizer.zero_grad()\n",
    "    loss.backward()\n",
    "    optimizer.step()\n",
    "    pbar.set_description(\" | \".join([f\"{k} {v.item()*100:^5.2f}\" for k, v in losses.items()]))"
   ]
  },
  {
   "cell_type": "code",
   "execution_count": 31,
   "metadata": {},
   "outputs": [
    {
     "data": {
      "text/plain": [
       "Sequential(\n",
       "  (0): _ResBlock(\n",
       "    (linear1): Linear(in_features=256, out_features=512, bias=True)\n",
       "    (linear2): Linear(in_features=512, out_features=256, bias=True)\n",
       "    (dropout): Dropout(p=0.0, inplace=False)\n",
       "    (layer_norm): LayerNorm((256,), eps=1e-05, elementwise_affine=True)\n",
       "  )\n",
       "  (1): MuReadout(in_features=256, out_features=1, bias=True)\n",
       ")"
      ]
     },
     "execution_count": 31,
     "metadata": {},
     "output_type": "execute_result"
    }
   ],
   "source": [
    "mlp = torch.nn.Sequential(\n",
    "    _ResBlock(defaults[\"d_model\"]),\n",
    "    mup.MuReadout(defaults[\"d_model\"], 1),\n",
    ")\n",
    "mup.set_base_shapes(mlp, mlp)"
   ]
  },
  {
   "cell_type": "code",
   "execution_count": 32,
   "metadata": {},
   "outputs": [
    {
     "name": "stderr",
     "output_type": "stream",
     "text": [
      "Loss: 2.45:   0%|          | 27/10000 [00:00<00:37, 267.89it/s] "
     ]
    },
    {
     "name": "stderr",
     "output_type": "stream",
     "text": [
      "Loss: 0.18: 100%|██████████| 10000/10000 [00:31<00:00, 318.37it/s]\n"
     ]
    }
   ],
   "source": [
    "optimizer_mlp = mup.AdamW(mlp.parameters(), lr=1e-4, weight_decay=0)\n",
    "for _ in (pbar:=tqdm.trange(1000)):\n",
    "    embs = model.embed_properties(input_dict)\n",
    "    pred = mlp(embs[\"dummy\"])\n",
    "    target = input_dict[\"dummy\"].float().view(-1, 1)\n",
    "    norm = target.norm(dim=-1) + 1e-6\n",
    "    loss = ((pred - target)/norm).pow(2).mean().sqrt()\n",
    "    optimizer_mlp.zero_grad()\n",
    "    loss.backward()\n",
    "    optimizer_mlp.step()\n",
    "    pbar.set_description(f\"Loss: {loss.item() * 100 :.2f}\")"
   ]
  },
  {
   "cell_type": "code",
   "execution_count": 33,
   "metadata": {},
   "outputs": [],
   "source": [
    "x, sort = X_test.sort()\n",
    "test_token_dict = TensorDict({\"dummy\": x, \"dummy_cat\" : cat_test[sort]}, fields=test_fields)"
   ]
  },
  {
   "cell_type": "code",
   "execution_count": 39,
   "metadata": {},
   "outputs": [
    {
     "data": {
      "text/plain": [
       "<matplotlib.legend.Legend at 0x7f0ba3a0a370>"
      ]
     },
     "execution_count": 39,
     "metadata": {},
     "output_type": "execute_result"
    },
    {
     "data": {
      "image/png": "[encoded data removed]",
      "text/plain": [
       "<Figure size 640x480 with 1 Axes>"
      ]
     },
     "metadata": {},
     "output_type": "display_data"
    }
   ],
   "source": [
    "embs = model.embed_properties(test_token_dict)\n",
    "y = mlp(embs[\"dummy\"]).cpu().detach()\n",
    "preds, tgts = model(test_token_dict)# type: ignore\n",
    "y_model = preds[\"dummy\"].cpu().detach()\n",
    "plt.plot(x.cpu(), y, label=\"MLP\")\n",
    "plt.plot(x.cpu(), y_model, label=\"KBFormer\")\n",
    "plt.plot(x.cpu(), x.cpu(), label=\"True\")\n",
    "plt.legend()"
   ]
  },
  {
   "cell_type": "code",
   "execution_count": 41,
   "metadata": {},
   "outputs": [
    {
     "name": "stdout",
     "output_type": "stream",
     "text": [
      "dummy acc: 99.9251748318784 %\n",
      "cat acc 100.0 %\n"
     ]
    },
    {
     "data": {
      "image/png": "[encoded data removed]",
      "text/plain": [
       "<Figure size 640x480 with 1 Axes>"
      ]
     },
     "metadata": {},
     "output_type": "display_data"
    }
   ],
   "source": [
    "p = preds[\"dummy\"].detach().cpu().view(-1)\n",
    "t = tgts[\"dummy\"].detach().cpu().view(-1, 1)\n",
    "p_mlp = mlp(embs[\"dummy\"]).detach().cpu().view(-1)\n",
    "norm = t.norm(dim=-1) + 1e-6\n",
    "t = t.view(-1)\n",
    "plt.hist((p-t)/norm * 100, alpha=0.5, label=\"KBFormer\")\n",
    "plt.hist((p_mlp-t)/norm * 100, alpha=0.5, label=\"MLP\")\n",
    "plt.legend()\n",
    "plt.ylabel(\"density\")\n",
    "plt.xlabel(\"error (%)\")\n",
    "print(\"dummy acc:\", 100 - ((p-t)/norm).abs().mean().item()*100, \"%\")\n",
    "print(\"cat acc\", (preds[\"dummy_cat\"].argmax(-1) == tgts[\"dummy_cat\"]).float().mean().item()*100, \"%\")"
   ]
  },
  {
   "cell_type": "code",
   "execution_count": null,
   "metadata": {},
   "outputs": [],
   "source": []
  }
 ],
 "metadata": {
  "kernelspec": {
   "display_name": "Python 3",
   "language": "python",
   "name": "python3"
  },
  "language_info": {
   "codemirror_mode": {
    "name": "ipython",
    "version": 3
   },
   "file_extension": ".py",
   "mimetype": "text/x-python",
   "name": "python",
   "nbconvert_exporter": "python",
   "pygments_lexer": "ipython3",
   "version": "3.8.10"
  },
  "orig_nbformat": 4
 },
 "nbformat": 4,
 "nbformat_minor": 2
}
